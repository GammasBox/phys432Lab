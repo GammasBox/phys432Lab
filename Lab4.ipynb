{
 "cells": [
  {
   "cell_type": "markdown",
   "metadata": {},
   "source": [
    "**Lab 4**\n",
    "\n",
    "Problem 1\n",
    "\n",
    "1)\n",
    "We are gong to be looking at a large dataset this week of 25 million rows\n",
    "Lets first import it"
   ]
  },
  {
   "cell_type": "code",
   "execution_count": 109,
   "metadata": {},
   "outputs": [],
   "source": [
    "%matplotlib inline\n",
    "import numpy as np\n",
    "import matplotlib\n",
    "import matplotlib.pyplot as plt\n",
    "import scipy\n",
    "from scipy import stats\n",
    "import h5py\n",
    "import pandas as pd\n",
    "import math\n",
    "from scipy import optimize\n",
    "\n",
    "#this sets the size of the plot to something useful\n",
    "plt.rcParams[\"figure.figsize\"] = (10,3)"
   ]
  },
  {
   "cell_type": "code",
   "execution_count": 2,
   "metadata": {},
   "outputs": [],
   "source": [
    "hf = h5py.File('gammaray_lab4.h5', 'r')\n"
   ]
  },
  {
   "cell_type": "code",
   "execution_count": 3,
   "metadata": {},
   "outputs": [
    {
     "data": {
      "text/plain": [
       "<KeysViewHDF5 ['data']>"
      ]
     },
     "execution_count": 3,
     "metadata": {},
     "output_type": "execute_result"
    }
   ],
   "source": [
    "hf.keys()"
   ]
  },
  {
   "cell_type": "code",
   "execution_count": 4,
   "metadata": {},
   "outputs": [
    {
     "data": {
      "text/plain": [
       "array([315.        , 315.00711228, 315.01422457, ..., 345.31910877,\n",
       "       345.32622105, 345.33333333])"
      ]
     },
     "execution_count": 4,
     "metadata": {},
     "output_type": "execute_result"
    }
   ],
   "source": [
    "data = np.array(hf.get('data'))\n",
    "data[1]"
   ]
  },
  {
   "cell_type": "code",
   "execution_count": 5,
   "metadata": {},
   "outputs": [
    {
     "data": {
      "text/plain": [
       "<bound method File.close of <HDF5 file \"gammaray_lab4.h5\" (mode r)>>"
      ]
     },
     "execution_count": 5,
     "metadata": {},
     "output_type": "execute_result"
    }
   ],
   "source": [
    "hf.close"
   ]
  },
  {
   "cell_type": "code",
   "execution_count": 6,
   "metadata": {},
   "outputs": [],
   "source": [
    "Data = pd.DataFrame({'time':data[0], 'Solar phase' : data[1] , 'Earth phase':data[2], 'particle counts':data[3]})"
   ]
  },
  {
   "cell_type": "markdown",
   "metadata": {},
   "source": [
    "Now let’s look through the data to find a way to model the background, we have data for particle count in a 100 millisecond window as well as meta data for the earth phase and solar phase"
   ]
  },
  {
   "cell_type": "markdown",
   "metadata": {},
   "source": [
    "Looking at the particle counts vs time graph we see some periodic counts lets look to see if this could have somthhing to do with the earth or the solar phases"
   ]
  },
  {
   "cell_type": "code",
   "execution_count": null,
   "metadata": {},
   "outputs": [],
   "source": [
    "\n",
    "plt.hist(Data['time'],weights=Data['particle counts'], bins=5000)\n",
    "#plt.yscale('log')\n",
    "plt.xlabel('time')\n",
    "plt.ylabel('particle counts')\n",
    "plt.title('Particle counts over the whole data set')\n",
    "plt.show()\n",
    "\n",
    "plt.hist(Data['time'],weights=Data['particle counts'], bins=5000)\n",
    "plt.yscale('log')\n",
    "plt.xlabel('time')\n",
    "plt.ylabel('particle counts')\n",
    "plt.title('Particle counts over the whole data set on a log scale')\n",
    "plt.show()"
   ]
  },
  {
   "cell_type": "markdown",
   "metadata": {},
   "source": [
    "Below we can see that there really is not a corilations of the particl counts to the solar phase"
   ]
  },
  {
   "cell_type": "code",
   "execution_count": null,
   "metadata": {},
   "outputs": [],
   "source": [
    "plt.hist(Data['Solar phase'],weights=Data['particle counts'], bins=500)\n",
    "plt.xlabel('Solar phase')\n",
    "plt.ylabel('particle counts')\n",
    "plt.title('Particle counts vs Solor phase on log scale histagram')\n",
    "\n",
    "#plt.yscale('log')\n",
    "plt.show()\n",
    "plt.hist(Data['Solar phase'],weights=Data['particle counts'], bins=500)\n",
    "plt.xlabel('Solar phase')\n",
    "plt.ylabel('particle counts')\n",
    "plt.title('Particle counts vs Solor phase on log scale histagram')\n",
    "\n",
    "plt.yscale('log')\n",
    "plt.show()"
   ]
  },
  {
   "cell_type": "markdown",
   "metadata": {},
   "source": [
    "Now when looking at the partcle counts vs the earth phase we see a nice ditsrbuint this is going to be how we make the background"
   ]
  },
  {
   "cell_type": "code",
   "execution_count": null,
   "metadata": {},
   "outputs": [],
   "source": [
    "plt.hist(Data['Earth phase'],weights=Data['particle counts'], bins=500)\n",
    "plt.yscale('log')\n",
    "plt.ylabel('particle counts')\n",
    "plt.xlabel('Earth phase')\n",
    "plt.title('Particle counts vs earth phase on log scale histagram')\n",
    "plt.show()\n",
    "\n",
    "plt.hist(Data['Earth phase'],weights=Data['particle counts'], bins=500)\n",
    "#plt.yscale('log')\n",
    "plt.ylabel('particle counts')\n",
    "plt.xlabel('Earth phase')\n",
    "plt.title('Particle counts vs earth phase histagram')\n",
    "plt.show()"
   ]
  },
  {
   "cell_type": "markdown",
   "metadata": {},
   "source": [
    "Lets make sure that the phase changes consitatly over time since we are going to want to find a time depence for the phase"
   ]
  },
  {
   "cell_type": "code",
   "execution_count": null,
   "metadata": {},
   "outputs": [],
   "source": [
    "Diff = Data['Earth phase'].diff()\n",
    "plt.ylabel('rate of change of the earth phase')\n",
    "plt.xlabel('Time')\n",
    "plt.title('Rate of change of the earth phase vs time ')\n",
    "plt.hist(Data['time'],weights=Diff, bins=500)\n",
    "plt.show()\n",
    "Diff = Data['Earth phase'].diff()\n",
    "plt.ylabel('rate of change of the earth phase')\n",
    "plt.title('Rate of change of the earth phase vs time ')\n",
    "plt.xlabel('Time')\n",
    "plt.hist(Data['time'],weights=Diff, bins=500)\n",
    "plt.ylim([0,-20])\n",
    "plt.show()"
   ]
  },
  {
   "cell_type": "markdown",
   "metadata": {},
   "source": [
    "Looking at the data we see signal contamination that has a depence on the earths phase. Now to get a backgound we will find the depencence of the partial count to the earth phase. That will give us an avrage count that we can use to build a poission backgound ditribution to then use to find signifgance of signals. "
   ]
  },
  {
   "cell_type": "code",
   "execution_count": 11,
   "metadata": {},
   "outputs": [],
   "source": [
    "#count , bins = np.histogram(Data['Earth phase'],weights=Data['particle counts'],bins=25000000)"
   ]
  },
  {
   "cell_type": "code",
   "execution_count": 13,
   "metadata": {},
   "outputs": [
    {
     "data": {
      "text/plain": [
       "time               25920001\n",
       "Solar phase        25920001\n",
       "Earth phase          327040\n",
       "particle counts          31\n",
       "dtype: int64"
      ]
     },
     "execution_count": 13,
     "metadata": {},
     "output_type": "execute_result"
    }
   ],
   "source": [
    "#Data.nunique()"
   ]
  },
  {
   "cell_type": "code",
   "execution_count": 105,
   "metadata": {},
   "outputs": [
    {
     "data": {
      "text/plain": [
       "45.01333333651225"
      ]
     },
     "execution_count": 105,
     "metadata": {},
     "output_type": "execute_result"
    }
   ],
   "source": [
    "Data.head(10)\n",
    "Data.at[2,'Earth phase']"
   ]
  },
  {
   "cell_type": "code",
   "execution_count": 17,
   "metadata": {},
   "outputs": [
    {
     "data": {
      "text/html": [
       "<div>\n",
       "<style scoped>\n",
       "    .dataframe tbody tr th:only-of-type {\n",
       "        vertical-align: middle;\n",
       "    }\n",
       "\n",
       "    .dataframe tbody tr th {\n",
       "        vertical-align: top;\n",
       "    }\n",
       "\n",
       "    .dataframe thead th {\n",
       "        text-align: right;\n",
       "    }\n",
       "</style>\n",
       "<table border=\"1\" class=\"dataframe\">\n",
       "  <thead>\n",
       "    <tr style=\"text-align: right;\">\n",
       "      <th></th>\n",
       "      <th>time</th>\n",
       "      <th>Solar phase</th>\n",
       "      <th>Earth phase</th>\n",
       "      <th>particle counts</th>\n",
       "    </tr>\n",
       "  </thead>\n",
       "  <tbody>\n",
       "    <tr>\n",
       "      <th>382</th>\n",
       "      <td>940680054.2</td>\n",
       "      <td>317.716891</td>\n",
       "      <td>47.546667</td>\n",
       "      <td>0.0</td>\n",
       "    </tr>\n",
       "    <tr>\n",
       "      <th>476</th>\n",
       "      <td>940680063.6</td>\n",
       "      <td>318.385446</td>\n",
       "      <td>48.173333</td>\n",
       "      <td>0.0</td>\n",
       "    </tr>\n",
       "    <tr>\n",
       "      <th>535</th>\n",
       "      <td>940680069.5</td>\n",
       "      <td>318.805071</td>\n",
       "      <td>48.566667</td>\n",
       "      <td>0.0</td>\n",
       "    </tr>\n",
       "    <tr>\n",
       "      <th>565</th>\n",
       "      <td>940680072.5</td>\n",
       "      <td>319.018439</td>\n",
       "      <td>48.766667</td>\n",
       "      <td>0.0</td>\n",
       "    </tr>\n",
       "    <tr>\n",
       "      <th>959</th>\n",
       "      <td>940680111.9</td>\n",
       "      <td>321.820678</td>\n",
       "      <td>51.393333</td>\n",
       "      <td>0.0</td>\n",
       "    </tr>\n",
       "    <tr>\n",
       "      <th>2852</th>\n",
       "      <td>940680301.2</td>\n",
       "      <td>335.284226</td>\n",
       "      <td>64.013333</td>\n",
       "      <td>0.0</td>\n",
       "    </tr>\n",
       "    <tr>\n",
       "      <th>3310</th>\n",
       "      <td>940680347.0</td>\n",
       "      <td>338.541651</td>\n",
       "      <td>67.066667</td>\n",
       "      <td>0.0</td>\n",
       "    </tr>\n",
       "    <tr>\n",
       "      <th>7207</th>\n",
       "      <td>940680736.7</td>\n",
       "      <td>6.258212</td>\n",
       "      <td>93.046667</td>\n",
       "      <td>0.0</td>\n",
       "    </tr>\n",
       "    <tr>\n",
       "      <th>9385</th>\n",
       "      <td>940680954.5</td>\n",
       "      <td>21.748761</td>\n",
       "      <td>107.566667</td>\n",
       "      <td>0.0</td>\n",
       "    </tr>\n",
       "    <tr>\n",
       "      <th>11310</th>\n",
       "      <td>940681147.0</td>\n",
       "      <td>35.439902</td>\n",
       "      <td>120.400000</td>\n",
       "      <td>0.0</td>\n",
       "    </tr>\n",
       "  </tbody>\n",
       "</table>\n",
       "</div>"
      ],
      "text/plain": [
       "              time  Solar phase  Earth phase  particle counts\n",
       "382    940680054.2   317.716891    47.546667              0.0\n",
       "476    940680063.6   318.385446    48.173333              0.0\n",
       "535    940680069.5   318.805071    48.566667              0.0\n",
       "565    940680072.5   319.018439    48.766667              0.0\n",
       "959    940680111.9   321.820678    51.393333              0.0\n",
       "2852   940680301.2   335.284226    64.013333              0.0\n",
       "3310   940680347.0   338.541651    67.066667              0.0\n",
       "7207   940680736.7     6.258212    93.046667              0.0\n",
       "9385   940680954.5    21.748761   107.566667              0.0\n",
       "11310  940681147.0    35.439902   120.400000              0.0"
      ]
     },
     "execution_count": 17,
     "metadata": {},
     "output_type": "execute_result"
    }
   ],
   "source": [
    "Data.nsmallest(10, 'particle counts')"
   ]
  },
  {
   "cell_type": "code",
   "execution_count": 18,
   "metadata": {},
   "outputs": [],
   "source": [
    "DataSort=Data.sort_values(by='particle counts')"
   ]
  },
  {
   "cell_type": "code",
   "execution_count": 22,
   "metadata": {},
   "outputs": [
    {
     "data": {
      "text/html": [
       "<div>\n",
       "<style scoped>\n",
       "    .dataframe tbody tr th:only-of-type {\n",
       "        vertical-align: middle;\n",
       "    }\n",
       "\n",
       "    .dataframe tbody tr th {\n",
       "        vertical-align: top;\n",
       "    }\n",
       "\n",
       "    .dataframe thead th {\n",
       "        text-align: right;\n",
       "    }\n",
       "</style>\n",
       "<table border=\"1\" class=\"dataframe\">\n",
       "  <thead>\n",
       "    <tr style=\"text-align: right;\">\n",
       "      <th></th>\n",
       "      <th>time</th>\n",
       "      <th>Solar phase</th>\n",
       "      <th>Earth phase</th>\n",
       "      <th>particle counts</th>\n",
       "    </tr>\n",
       "  </thead>\n",
       "  <tbody>\n",
       "    <tr>\n",
       "      <th>20677369</th>\n",
       "      <td>942747752.9</td>\n",
       "      <td>138.266497</td>\n",
       "      <td>14.126667</td>\n",
       "      <td>26.0</td>\n",
       "    </tr>\n",
       "    <tr>\n",
       "      <th>17430392</th>\n",
       "      <td>942423055.2</td>\n",
       "      <td>84.852443</td>\n",
       "      <td>327.613333</td>\n",
       "      <td>26.0</td>\n",
       "    </tr>\n",
       "    <tr>\n",
       "      <th>314338</th>\n",
       "      <td>940711449.8</td>\n",
       "      <td>30.660304</td>\n",
       "      <td>340.586667</td>\n",
       "      <td>26.0</td>\n",
       "    </tr>\n",
       "    <tr>\n",
       "      <th>24016722</th>\n",
       "      <td>943081688.2</td>\n",
       "      <td>128.684656</td>\n",
       "      <td>316.480000</td>\n",
       "      <td>26.0</td>\n",
       "    </tr>\n",
       "    <tr>\n",
       "      <th>21263046</th>\n",
       "      <td>942806320.6</td>\n",
       "      <td>343.766118</td>\n",
       "      <td>318.640000</td>\n",
       "      <td>26.0</td>\n",
       "    </tr>\n",
       "    <tr>\n",
       "      <th>...</th>\n",
       "      <td>...</td>\n",
       "      <td>...</td>\n",
       "      <td>...</td>\n",
       "      <td>...</td>\n",
       "    </tr>\n",
       "    <tr>\n",
       "      <th>21490312</th>\n",
       "      <td>942829047.2</td>\n",
       "      <td>160.145858</td>\n",
       "      <td>33.746667</td>\n",
       "      <td>29.0</td>\n",
       "    </tr>\n",
       "    <tr>\n",
       "      <th>8033129</th>\n",
       "      <td>941483328.9</td>\n",
       "      <td>208.873799</td>\n",
       "      <td>319.193333</td>\n",
       "      <td>29.0</td>\n",
       "    </tr>\n",
       "    <tr>\n",
       "      <th>7173853</th>\n",
       "      <td>941397401.3</td>\n",
       "      <td>217.461105</td>\n",
       "      <td>350.686667</td>\n",
       "      <td>30.0</td>\n",
       "    </tr>\n",
       "    <tr>\n",
       "      <th>9113934</th>\n",
       "      <td>941591409.4</td>\n",
       "      <td>335.863074</td>\n",
       "      <td>324.560000</td>\n",
       "      <td>30.0</td>\n",
       "    </tr>\n",
       "    <tr>\n",
       "      <th>18346836</th>\n",
       "      <td>942514699.6</td>\n",
       "      <td>122.860039</td>\n",
       "      <td>317.240000</td>\n",
       "      <td>30.0</td>\n",
       "    </tr>\n",
       "  </tbody>\n",
       "</table>\n",
       "<p>100 rows × 4 columns</p>\n",
       "</div>"
      ],
      "text/plain": [
       "                 time  Solar phase  Earth phase  particle counts\n",
       "20677369  942747752.9   138.266497    14.126667             26.0\n",
       "17430392  942423055.2    84.852443   327.613333             26.0\n",
       "314338    940711449.8    30.660304   340.586667             26.0\n",
       "24016722  943081688.2   128.684656   316.480000             26.0\n",
       "21263046  942806320.6   343.766118   318.640000             26.0\n",
       "...               ...          ...          ...              ...\n",
       "21490312  942829047.2   160.145858    33.746667             29.0\n",
       "8033129   941483328.9   208.873799   319.193333             29.0\n",
       "7173853   941397401.3   217.461105   350.686667             30.0\n",
       "9113934   941591409.4   335.863074   324.560000             30.0\n",
       "18346836  942514699.6   122.860039   317.240000             30.0\n",
       "\n",
       "[100 rows x 4 columns]"
      ]
     },
     "execution_count": 22,
     "metadata": {},
     "output_type": "execute_result"
    }
   ],
   "source": [
    "DataSort.tail(100)"
   ]
  },
  {
   "cell_type": "code",
   "execution_count": 23,
   "metadata": {},
   "outputs": [
    {
     "data": {
      "text/html": [
       "<div>\n",
       "<style scoped>\n",
       "    .dataframe tbody tr th:only-of-type {\n",
       "        vertical-align: middle;\n",
       "    }\n",
       "\n",
       "    .dataframe tbody tr th {\n",
       "        vertical-align: top;\n",
       "    }\n",
       "\n",
       "    .dataframe thead th {\n",
       "        text-align: right;\n",
       "    }\n",
       "</style>\n",
       "<table border=\"1\" class=\"dataframe\">\n",
       "  <thead>\n",
       "    <tr style=\"text-align: right;\">\n",
       "      <th></th>\n",
       "      <th>time</th>\n",
       "      <th>Solar phase</th>\n",
       "      <th>Earth phase</th>\n",
       "      <th>particle counts</th>\n",
       "    </tr>\n",
       "  </thead>\n",
       "  <tbody>\n",
       "    <tr>\n",
       "      <th>4188000</th>\n",
       "      <td>941098816.0</td>\n",
       "      <td>221.234414</td>\n",
       "      <td>245.000000</td>\n",
       "      <td>0.0</td>\n",
       "    </tr>\n",
       "    <tr>\n",
       "      <th>10319502</th>\n",
       "      <td>941711966.2</td>\n",
       "      <td>270.201911</td>\n",
       "      <td>81.680000</td>\n",
       "      <td>0.0</td>\n",
       "    </tr>\n",
       "    <tr>\n",
       "      <th>3004533</th>\n",
       "      <td>940980469.3</td>\n",
       "      <td>84.084107</td>\n",
       "      <td>275.220000</td>\n",
       "      <td>0.0</td>\n",
       "    </tr>\n",
       "    <tr>\n",
       "      <th>16929486</th>\n",
       "      <td>942372964.6</td>\n",
       "      <td>122.268027</td>\n",
       "      <td>228.240000</td>\n",
       "      <td>0.0</td>\n",
       "    </tr>\n",
       "    <tr>\n",
       "      <th>17859673</th>\n",
       "      <td>942465983.3</td>\n",
       "      <td>258.019706</td>\n",
       "      <td>309.486667</td>\n",
       "      <td>0.0</td>\n",
       "    </tr>\n",
       "    <tr>\n",
       "      <th>...</th>\n",
       "      <td>...</td>\n",
       "      <td>...</td>\n",
       "      <td>...</td>\n",
       "      <td>...</td>\n",
       "    </tr>\n",
       "    <tr>\n",
       "      <th>6620589</th>\n",
       "      <td>941342074.9</td>\n",
       "      <td>242.491860</td>\n",
       "      <td>262.260000</td>\n",
       "      <td>0.0</td>\n",
       "    </tr>\n",
       "    <tr>\n",
       "      <th>5113379</th>\n",
       "      <td>941191353.9</td>\n",
       "      <td>322.790243</td>\n",
       "      <td>294.193333</td>\n",
       "      <td>0.0</td>\n",
       "    </tr>\n",
       "    <tr>\n",
       "      <th>11088420</th>\n",
       "      <td>941788858.0</td>\n",
       "      <td>338.963084</td>\n",
       "      <td>167.800000</td>\n",
       "      <td>0.0</td>\n",
       "    </tr>\n",
       "    <tr>\n",
       "      <th>9911246</th>\n",
       "      <td>941671140.6</td>\n",
       "      <td>246.570365</td>\n",
       "      <td>239.973333</td>\n",
       "      <td>0.0</td>\n",
       "    </tr>\n",
       "    <tr>\n",
       "      <th>1583383</th>\n",
       "      <td>940838354.3</td>\n",
       "      <td>56.465426</td>\n",
       "      <td>160.886667</td>\n",
       "      <td>0.0</td>\n",
       "    </tr>\n",
       "  </tbody>\n",
       "</table>\n",
       "<p>100 rows × 4 columns</p>\n",
       "</div>"
      ],
      "text/plain": [
       "                 time  Solar phase  Earth phase  particle counts\n",
       "4188000   941098816.0   221.234414   245.000000              0.0\n",
       "10319502  941711966.2   270.201911    81.680000              0.0\n",
       "3004533   940980469.3    84.084107   275.220000              0.0\n",
       "16929486  942372964.6   122.268027   228.240000              0.0\n",
       "17859673  942465983.3   258.019706   309.486667              0.0\n",
       "...               ...          ...          ...              ...\n",
       "6620589   941342074.9   242.491860   262.260000              0.0\n",
       "5113379   941191353.9   322.790243   294.193333              0.0\n",
       "11088420  941788858.0   338.963084   167.800000              0.0\n",
       "9911246   941671140.6   246.570365   239.973333              0.0\n",
       "1583383   940838354.3    56.465426   160.886667              0.0\n",
       "\n",
       "[100 rows x 4 columns]"
      ]
     },
     "execution_count": 23,
     "metadata": {},
     "output_type": "execute_result"
    }
   ],
   "source": [
    "DataSort.head(100)"
   ]
  },
  {
   "cell_type": "code",
   "execution_count": 24,
   "metadata": {},
   "outputs": [
    {
     "data": {
      "text/plain": [
       "79.25636313600783"
      ]
     },
     "execution_count": 24,
     "metadata": {},
     "output_type": "execute_result"
    }
   ],
   "source": [
    "25920001/327040"
   ]
  },
  {
   "cell_type": "code",
   "execution_count": 15,
   "metadata": {},
   "outputs": [
    {
     "data": {
      "text/plain": [
       "53999.98712540363"
      ]
     },
     "execution_count": 15,
     "metadata": {},
     "output_type": "execute_result"
    }
   ],
   "source": [
    "(360/(Data.at[1,'Earth phase']-Data.at[0,'Earth phase']))"
   ]
  },
  {
   "cell_type": "code",
   "execution_count": 35,
   "metadata": {},
   "outputs": [
    {
     "data": {
      "text/plain": [
       "43200.00166666666"
      ]
     },
     "execution_count": 35,
     "metadata": {},
     "output_type": "execute_result"
    }
   ],
   "source": [
    "25920001/(10*60)"
   ]
  },
  {
   "cell_type": "code",
   "execution_count": 7,
   "metadata": {},
   "outputs": [],
   "source": [
    "DataSortEP=Data.sort_values(by='Earth phase')"
   ]
  },
  {
   "cell_type": "code",
   "execution_count": 103,
   "metadata": {},
   "outputs": [],
   "source": [
    "pd.set_option('display.max_rows', 100, \"display.max_columns\", None)"
   ]
  },
  {
   "cell_type": "code",
   "execution_count": 68,
   "metadata": {},
   "outputs": [
    {
     "data": {
      "text/html": [
       "<div>\n",
       "<style scoped>\n",
       "    .dataframe tbody tr th:only-of-type {\n",
       "        vertical-align: middle;\n",
       "    }\n",
       "\n",
       "    .dataframe tbody tr th {\n",
       "        vertical-align: top;\n",
       "    }\n",
       "\n",
       "    .dataframe thead th {\n",
       "        text-align: right;\n",
       "    }\n",
       "</style>\n",
       "<table border=\"1\" class=\"dataframe\">\n",
       "  <thead>\n",
       "    <tr style=\"text-align: right;\">\n",
       "      <th></th>\n",
       "      <th>time</th>\n",
       "      <th>Solar phase</th>\n",
       "      <th>Earth phase</th>\n",
       "      <th>particle counts</th>\n",
       "    </tr>\n",
       "  </thead>\n",
       "  <tbody>\n",
       "    <tr>\n",
       "      <th>3024000</th>\n",
       "      <td>940982416.0</td>\n",
       "      <td>222.538889</td>\n",
       "      <td>45.000000</td>\n",
       "      <td>9.0</td>\n",
       "    </tr>\n",
       "    <tr>\n",
       "      <th>17118001</th>\n",
       "      <td>942391816.1</td>\n",
       "      <td>23.039751</td>\n",
       "      <td>45.006667</td>\n",
       "      <td>5.0</td>\n",
       "    </tr>\n",
       "    <tr>\n",
       "      <th>...</th>\n",
       "      <td>...</td>\n",
       "      <td>...</td>\n",
       "      <td>...</td>\n",
       "      <td>...</td>\n",
       "    </tr>\n",
       "    <tr>\n",
       "      <th>2700001</th>\n",
       "      <td>940950016.1</td>\n",
       "      <td>78.166835</td>\n",
       "      <td>45.006667</td>\n",
       "      <td>7.0</td>\n",
       "    </tr>\n",
       "    <tr>\n",
       "      <th>3348001</th>\n",
       "      <td>941014816.1</td>\n",
       "      <td>6.925168</td>\n",
       "      <td>45.006667</td>\n",
       "      <td>11.0</td>\n",
       "    </tr>\n",
       "  </tbody>\n",
       "</table>\n",
       "<p>481 rows × 4 columns</p>\n",
       "</div>"
      ],
      "text/plain": [
       "                 time  Solar phase  Earth phase  particle counts\n",
       "3024000   940982416.0   222.538889    45.000000              9.0\n",
       "17118001  942391816.1    23.039751    45.006667              5.0\n",
       "...               ...          ...          ...              ...\n",
       "2700001   940950016.1    78.166835    45.006667              7.0\n",
       "3348001   941014816.1     6.925168    45.006667             11.0\n",
       "\n",
       "[481 rows x 4 columns]"
      ]
     },
     "execution_count": 68,
     "metadata": {},
     "output_type": "execute_result"
    }
   ],
   "source": [
    "n=6751\n",
    "DataSortEP[0+480*n:481+480*n]"
   ]
  },
  {
   "cell_type": "code",
   "execution_count": 73,
   "metadata": {},
   "outputs": [],
   "source": [
    "D = Data[(Data[\"Earth phase\"] == 0)]\n",
    "\n",
    "#filterdtmp  =temp[temp['sigma'] > 4]"
   ]
  },
  {
   "cell_type": "code",
   "execution_count": 80,
   "metadata": {},
   "outputs": [
    {
     "data": {
      "image/png": "[encoded data removed]",
      "text/plain": [
       "<Figure size 720x216 with 1 Axes>"
      ]
     },
     "metadata": {
      "needs_background": "light"
     },
     "output_type": "display_data"
    }
   ],
   "source": [
    "len(D)\n",
    "D\n",
    "plt.hist(D['particle counts'], bins=30)\n",
    "plt.show()"
   ]
  },
  {
   "cell_type": "code",
   "execution_count": 150,
   "metadata": {},
   "outputs": [
    {
     "data": {
      "image/png": "[encoded data removed]",
      "text/plain": [
       "<Figure size 720x216 with 1 Axes>"
      ]
     },
     "metadata": {
      "needs_background": "light"
     },
     "output_type": "display_data"
    },
    {
     "data": {
      "text/html": [
       "<div>\n",
       "<style scoped>\n",
       "    .dataframe tbody tr th:only-of-type {\n",
       "        vertical-align: middle;\n",
       "    }\n",
       "\n",
       "    .dataframe tbody tr th {\n",
       "        vertical-align: top;\n",
       "    }\n",
       "\n",
       "    .dataframe thead th {\n",
       "        text-align: right;\n",
       "    }\n",
       "</style>\n",
       "<table border=\"1\" class=\"dataframe\">\n",
       "  <thead>\n",
       "    <tr style=\"text-align: right;\">\n",
       "      <th></th>\n",
       "      <th>time</th>\n",
       "      <th>Solar phase</th>\n",
       "      <th>Earth phase</th>\n",
       "      <th>particle counts</th>\n",
       "    </tr>\n",
       "  </thead>\n",
       "  <tbody>\n",
       "    <tr>\n",
       "      <th>5</th>\n",
       "      <td>940680016.5</td>\n",
       "      <td>315.035561</td>\n",
       "      <td>45.033333</td>\n",
       "      <td>11.0</td>\n",
       "    </tr>\n",
       "    <tr>\n",
       "      <th>54005</th>\n",
       "      <td>940685416.5</td>\n",
       "      <td>339.098756</td>\n",
       "      <td>45.033333</td>\n",
       "      <td>9.0</td>\n",
       "    </tr>\n",
       "    <tr>\n",
       "      <th>108006</th>\n",
       "      <td>940690816.6</td>\n",
       "      <td>3.169063</td>\n",
       "      <td>45.040000</td>\n",
       "      <td>5.0</td>\n",
       "    </tr>\n",
       "    <tr>\n",
       "      <th>324006</th>\n",
       "      <td>940712416.6</td>\n",
       "      <td>99.421840</td>\n",
       "      <td>45.040000</td>\n",
       "      <td>7.0</td>\n",
       "    </tr>\n",
       "    <tr>\n",
       "      <th>378006</th>\n",
       "      <td>940717816.6</td>\n",
       "      <td>123.485035</td>\n",
       "      <td>45.040000</td>\n",
       "      <td>11.0</td>\n",
       "    </tr>\n",
       "    <tr>\n",
       "      <th>...</th>\n",
       "      <td>...</td>\n",
       "      <td>...</td>\n",
       "      <td>...</td>\n",
       "      <td>...</td>\n",
       "    </tr>\n",
       "    <tr>\n",
       "      <th>25650006</th>\n",
       "      <td>943245016.6</td>\n",
       "      <td>225.060035</td>\n",
       "      <td>45.040000</td>\n",
       "      <td>11.0</td>\n",
       "    </tr>\n",
       "    <tr>\n",
       "      <th>25704006</th>\n",
       "      <td>943250416.6</td>\n",
       "      <td>249.123229</td>\n",
       "      <td>45.040000</td>\n",
       "      <td>9.0</td>\n",
       "    </tr>\n",
       "    <tr>\n",
       "      <th>25758006</th>\n",
       "      <td>943255816.6</td>\n",
       "      <td>273.186424</td>\n",
       "      <td>45.040000</td>\n",
       "      <td>5.0</td>\n",
       "    </tr>\n",
       "    <tr>\n",
       "      <th>25812006</th>\n",
       "      <td>943261216.6</td>\n",
       "      <td>297.249618</td>\n",
       "      <td>45.040000</td>\n",
       "      <td>9.0</td>\n",
       "    </tr>\n",
       "    <tr>\n",
       "      <th>25866006</th>\n",
       "      <td>943266616.6</td>\n",
       "      <td>321.312813</td>\n",
       "      <td>45.040000</td>\n",
       "      <td>8.0</td>\n",
       "    </tr>\n",
       "  </tbody>\n",
       "</table>\n",
       "<p>430 rows × 4 columns</p>\n",
       "</div>"
      ],
      "text/plain": [
       "                 time  Solar phase  Earth phase  particle counts\n",
       "5         940680016.5   315.035561    45.033333             11.0\n",
       "54005     940685416.5   339.098756    45.033333              9.0\n",
       "108006    940690816.6     3.169063    45.040000              5.0\n",
       "324006    940712416.6    99.421840    45.040000              7.0\n",
       "378006    940717816.6   123.485035    45.040000             11.0\n",
       "...               ...          ...          ...              ...\n",
       "25650006  943245016.6   225.060035    45.040000             11.0\n",
       "25704006  943250416.6   249.123229    45.040000              9.0\n",
       "25758006  943255816.6   273.186424    45.040000              5.0\n",
       "25812006  943261216.6   297.249618    45.040000              9.0\n",
       "25866006  943266616.6   321.312813    45.040000              8.0\n",
       "\n",
       "[430 rows x 4 columns]"
      ]
     },
     "execution_count": 150,
     "metadata": {},
     "output_type": "execute_result"
    }
   ],
   "source": [
    "n=5\n",
    "\n",
    "\n",
    "D = Data[(Data[\"Earth phase\"] < Data.at[n+1,'Earth phase'])]\n",
    "D = D[(D[\"Earth phase\"] >= Data.at[n,'Earth phase'])]\n",
    "len(D)\n",
    "\n",
    "mu=D.mean()\n",
    "mu[3]\n",
    "\n",
    "fig, ax = plt.subplots(1,1)\n",
    "x = np.arange(0,30,1)\n",
    "ax.plot(x,stats.poisson.pmf(x,mu[3],loc=0), linewidth = 5, alpha = .5)\n",
    "\n",
    "plt.hist(D['particle counts'], bins=15, density=True)\n",
    "plt.show()\n",
    "D\n"
   ]
  },
  {
   "cell_type": "code",
   "execution_count": 151,
   "metadata": {},
   "outputs": [
    {
     "data": {
      "image/png": "[encoded data removed]",
      "text/plain": [
       "<Figure size 720x216 with 1 Axes>"
      ]
     },
     "metadata": {
      "needs_background": "light"
     },
     "output_type": "display_data"
    },
    {
     "data": {
      "text/html": [
       "<div>\n",
       "<style scoped>\n",
       "    .dataframe tbody tr th:only-of-type {\n",
       "        vertical-align: middle;\n",
       "    }\n",
       "\n",
       "    .dataframe tbody tr th {\n",
       "        vertical-align: top;\n",
       "    }\n",
       "\n",
       "    .dataframe thead th {\n",
       "        text-align: right;\n",
       "    }\n",
       "</style>\n",
       "<table border=\"1\" class=\"dataframe\">\n",
       "  <thead>\n",
       "    <tr style=\"text-align: right;\">\n",
       "      <th></th>\n",
       "      <th>time</th>\n",
       "      <th>Solar phase</th>\n",
       "      <th>Earth phase</th>\n",
       "      <th>particle counts</th>\n",
       "    </tr>\n",
       "  </thead>\n",
       "  <tbody>\n",
       "    <tr>\n",
       "      <th>10</th>\n",
       "      <td>940680017.0</td>\n",
       "      <td>315.071123</td>\n",
       "      <td>45.066667</td>\n",
       "      <td>5.0</td>\n",
       "    </tr>\n",
       "    <tr>\n",
       "      <th>54011</th>\n",
       "      <td>940685417.1</td>\n",
       "      <td>339.141430</td>\n",
       "      <td>45.073333</td>\n",
       "      <td>6.0</td>\n",
       "    </tr>\n",
       "    <tr>\n",
       "      <th>108010</th>\n",
       "      <td>940690817.0</td>\n",
       "      <td>3.197512</td>\n",
       "      <td>45.066667</td>\n",
       "      <td>11.0</td>\n",
       "    </tr>\n",
       "    <tr>\n",
       "      <th>324011</th>\n",
       "      <td>940712417.1</td>\n",
       "      <td>99.457402</td>\n",
       "      <td>45.073333</td>\n",
       "      <td>5.0</td>\n",
       "    </tr>\n",
       "    <tr>\n",
       "      <th>378011</th>\n",
       "      <td>940717817.1</td>\n",
       "      <td>123.520596</td>\n",
       "      <td>45.073333</td>\n",
       "      <td>11.0</td>\n",
       "    </tr>\n",
       "    <tr>\n",
       "      <th>...</th>\n",
       "      <td>...</td>\n",
       "      <td>...</td>\n",
       "      <td>...</td>\n",
       "      <td>...</td>\n",
       "    </tr>\n",
       "    <tr>\n",
       "      <th>25650010</th>\n",
       "      <td>943245017.0</td>\n",
       "      <td>225.088484</td>\n",
       "      <td>45.066667</td>\n",
       "      <td>5.0</td>\n",
       "    </tr>\n",
       "    <tr>\n",
       "      <th>25704010</th>\n",
       "      <td>943250417.0</td>\n",
       "      <td>249.151678</td>\n",
       "      <td>45.066667</td>\n",
       "      <td>5.0</td>\n",
       "    </tr>\n",
       "    <tr>\n",
       "      <th>25758010</th>\n",
       "      <td>943255817.0</td>\n",
       "      <td>273.214873</td>\n",
       "      <td>45.066667</td>\n",
       "      <td>8.0</td>\n",
       "    </tr>\n",
       "    <tr>\n",
       "      <th>25812010</th>\n",
       "      <td>943261217.0</td>\n",
       "      <td>297.278067</td>\n",
       "      <td>45.066667</td>\n",
       "      <td>8.0</td>\n",
       "    </tr>\n",
       "    <tr>\n",
       "      <th>25866010</th>\n",
       "      <td>943266617.0</td>\n",
       "      <td>321.341262</td>\n",
       "      <td>45.066667</td>\n",
       "      <td>11.0</td>\n",
       "    </tr>\n",
       "  </tbody>\n",
       "</table>\n",
       "<p>431 rows × 4 columns</p>\n",
       "</div>"
      ],
      "text/plain": [
       "                 time  Solar phase  Earth phase  particle counts\n",
       "10        940680017.0   315.071123    45.066667              5.0\n",
       "54011     940685417.1   339.141430    45.073333              6.0\n",
       "108010    940690817.0     3.197512    45.066667             11.0\n",
       "324011    940712417.1    99.457402    45.073333              5.0\n",
       "378011    940717817.1   123.520596    45.073333             11.0\n",
       "...               ...          ...          ...              ...\n",
       "25650010  943245017.0   225.088484    45.066667              5.0\n",
       "25704010  943250417.0   249.151678    45.066667              5.0\n",
       "25758010  943255817.0   273.214873    45.066667              8.0\n",
       "25812010  943261217.0   297.278067    45.066667              8.0\n",
       "25866010  943266617.0   321.341262    45.066667             11.0\n",
       "\n",
       "[431 rows x 4 columns]"
      ]
     },
     "execution_count": 151,
     "metadata": {},
     "output_type": "execute_result"
    }
   ],
   "source": [
    "n=10\n",
    "\n",
    "\n",
    "D = Data[(Data[\"Earth phase\"] < Data.at[n+1,'Earth phase'])]\n",
    "D = D[(D[\"Earth phase\"] >= Data.at[n,'Earth phase'])]\n",
    "len(D)\n",
    "\n",
    "mu=D.mean()\n",
    "mu[3]\n",
    "\n",
    "fig, ax = plt.subplots(1,1)\n",
    "x = np.arange(0,30,1)\n",
    "ax.plot(x,stats.poisson.pmf(x,mu[3],loc=0), linewidth = 5, alpha = .5)\n",
    "\n",
    "plt.hist(D['particle counts'], bins=15, density=True)\n",
    "plt.show()\n",
    "\n",
    "D\n",
    "\n"
   ]
  },
  {
   "cell_type": "code",
   "execution_count": 94,
   "metadata": {},
   "outputs": [
    {
     "data": {
      "text/plain": [
       "45.00666666825612"
      ]
     },
     "execution_count": 94,
     "metadata": {},
     "output_type": "execute_result"
    }
   ],
   "source": [
    "Data.at[1,'Earth phase']"
   ]
  },
  {
   "cell_type": "code",
   "execution_count": 23,
   "metadata": {},
   "outputs": [],
   "source": [
    "Hist = pd.DataFrame({ 'Earth phase':bins, 'particle counts':count, 'd':np.append(np.diff(count),0)})\n"
   ]
  },
  {
   "cell_type": "code",
   "execution_count": 101,
   "metadata": {},
   "outputs": [
    {
     "data": {
      "text/plain": [
       "45.01333333651225"
      ]
     },
     "execution_count": 101,
     "metadata": {},
     "output_type": "execute_result"
    }
   ],
   "source": [
    "D = Data[(Data[\"Earth phase\"] == Data.at[2,'Earth phase'])]\n",
    "D\n",
    "Data.at[2,'Earth phase']"
   ]
  },
  {
   "cell_type": "code",
   "execution_count": 25,
   "metadata": {},
   "outputs": [],
   "source": [
    "d = np.append(np.diff(count),0)\n",
    "d= np.append(d,0)"
   ]
  },
  {
   "cell_type": "code",
   "execution_count": null,
   "metadata": {},
   "outputs": [],
   "source": [
    "s=np.append(Hist.loc[339:500],Hist.loc[0:335])"
   ]
  },
  {
   "cell_type": "code",
   "execution_count": null,
   "metadata": {},
   "outputs": [],
   "source": []
  },
  {
   "cell_type": "code",
   "execution_count": null,
   "metadata": {},
   "outputs": [],
   "source": []
  },
  {
   "cell_type": "code",
   "execution_count": null,
   "metadata": {},
   "outputs": [],
   "source": []
  },
  {
   "cell_type": "code",
   "execution_count": null,
   "metadata": {},
   "outputs": [],
   "source": []
  },
  {
   "cell_type": "code",
   "execution_count": null,
   "metadata": {},
   "outputs": [],
   "source": []
  },
  {
   "cell_type": "code",
   "execution_count": null,
   "metadata": {},
   "outputs": [],
   "source": []
  },
  {
   "cell_type": "code",
   "execution_count": null,
   "metadata": {},
   "outputs": [],
   "source": []
  },
  {
   "cell_type": "code",
   "execution_count": null,
   "metadata": {},
   "outputs": [],
   "source": []
  },
  {
   "cell_type": "code",
   "execution_count": null,
   "metadata": {},
   "outputs": [],
   "source": []
  },
  {
   "cell_type": "code",
   "execution_count": null,
   "metadata": {},
   "outputs": [],
   "source": []
  },
  {
   "cell_type": "code",
   "execution_count": null,
   "metadata": {},
   "outputs": [],
   "source": []
  },
  {
   "cell_type": "code",
   "execution_count": null,
   "metadata": {},
   "outputs": [],
   "source": []
  },
  {
   "cell_type": "code",
   "execution_count": null,
   "metadata": {},
   "outputs": [],
   "source": [
    "plt.hist(Data['time'].iloc[0:200000],weights=Data['Earth phase'].iloc[0:200000], bins=1000)\n",
    "plt.yscale('log')"
   ]
  },
  {
   "cell_type": "code",
   "execution_count": 50,
   "metadata": {},
   "outputs": [],
   "source": [
    "t = Data['time']\n",
    "Ep = Data['Earth phase']\n",
    "Sp = Data['Earth phase']\n",
    "c = Data['particle counts']"
   ]
  },
  {
   "cell_type": "code",
   "execution_count": null,
   "metadata": {},
   "outputs": [],
   "source": []
  },
  {
   "cell_type": "code",
   "execution_count": null,
   "metadata": {},
   "outputs": [],
   "source": []
  },
  {
   "cell_type": "code",
   "execution_count": null,
   "metadata": {},
   "outputs": [],
   "source": []
  }
 ],
 "metadata": {
  "kernelspec": {
   "display_name": "Python 3",
   "language": "python",
   "name": "python3"
  },
  "language_info": {
   "codemirror_mode": {
    "name": "ipython",
    "version": 3
   },
   "file_extension": ".py",
   "mimetype": "text/x-python",
   "name": "python",
   "nbconvert_exporter": "python",
   "pygments_lexer": "ipython3",
   "version": "3.7.4"
  }
 },
 "nbformat": 4,
 "nbformat_minor": 4
}
