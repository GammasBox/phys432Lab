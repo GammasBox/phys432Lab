{
 "cells": [
  {
   "cell_type": "code",
   "execution_count": null,
   "metadata": {},
   "outputs": [],
   "source": []
  },
  {
   "cell_type": "code",
   "execution_count": 26,
   "metadata": {},
   "outputs": [],
   "source": [
    "%matplotlib inline\n",
    "import numpy as np\n",
    "import matplotlib\n",
    "import matplotlib.pyplot as plt\n",
    "import scipy\n",
    "from scipy import stats\n",
    "import h5py\n",
    "import pandas as pd\n",
    "import math\n",
    "from scipy import optimize\n",
    "\n",
    "#this sets the size of the plot to something useful\n",
    "plt.rcParams[\"figure.figsize\"] = (10,3)"
   ]
  },
  {
   "cell_type": "code",
   "execution_count": 27,
   "metadata": {},
   "outputs": [],
   "source": [
    "def cut(low,high,feature,signal,bkgd):\n",
    "    bkgdDataCut =bkgd[ bkgd[feature]>low]\n",
    "    bkgdDataCut=bkgdDataCut[bkgdDataCut[feature]<high]\n",
    "    \n",
    "    signalDatacut=signal[signal[feature]>low]\n",
    "    signalDatacut=signalDatacut[signalDatacut[feature]<high]\n",
    "    \n",
    "    bkgdMean = 2000 * len(bkgdDataCut[feature])/len(qcdData[feature])\n",
    "    \n",
    "    signalMean = 50 * len(signalDatacut[feature])/len(higgsData[feature])\n",
    "    \n",
    "    p = (1-scipy.stats.poisson.cdf(bkgdMean+signalMean, bkgdMean))\n",
    "    print('We get a simga significance of {0:1.3f} for a cut from {1:1.1f} to {2:1.1f}'.format(stats.norm.ppf(1-p),low,high))\n",
    "    print('number of higgs signla left {0:1.1f}'.format(signalMean))\n",
    "    print('number of background signla left {0:1.1f}'.format(bkgdMean))\n",
    "    #print(signalMean)\n",
    "    \n",
    "    return(signalDatacut,bkgdDataCut)\n",
    "\n",
    "def cut1(low,high,feature,signal):\n",
    "    #bkgdDataCut =bkgd[ bkgd[feature]>low]\n",
    "    #bkgdDataCut=bkgdDataCut[bkgdDataCut[feature]<high]\n",
    "    \n",
    "    signalDatacut=signal[signal[feature]>low]\n",
    "    signalDatacut=signalDatacut[signalDatacut[feature]<high]\n",
    "    \n",
    "    #bkgdMean = 2000 * len(bkgdDataCut[feature])/len(qcdData[feature])\n",
    "    \n",
    "    #signalMean = 50 * len(signalDatacut[feature])/len(higgsData[feature])\n",
    "    \n",
    "    #p = (1-scipy.stats.poisson.cdf(bkgdMean+signalMean, bkgdMean))\n",
    "    #print('We get a simga significance of {0:1.3f} for a cut from {1:1.1f} to {2:1.1f}'.format(stats.norm.ppf(1-p),low,high))\n",
    "    #print('number of higgs signla left {0:1.1f}'.format(signalMean))\n",
    "    #print('number of background signla left {0:1.1f}'.format(bkgdMean))\n",
    "    #print(signalMean)\n",
    "    \n",
    "    return(signalDatacut)"
   ]
  },
  {
   "cell_type": "code",
   "execution_count": 28,
   "metadata": {},
   "outputs": [
    {
     "data": {
      "text/plain": [
       "Index(['pt', 'eta', 'phi', 'mass', 'ee2', 'ee3', 'd2', 'angularity', 't1',\n",
       "       't2', 't3', 't21', 't32', 'KtDeltaR'],\n",
       "      dtype='object')"
      ]
     },
     "execution_count": 28,
     "metadata": {},
     "output_type": "execute_result"
    }
   ],
   "source": [
    "# import library\n",
    "import pickle\n",
    "\n",
    "# open the file of interest, and use pickle loading\n",
    "infile = open (\"higgs_100000_pt_1000_1200.pkl\",'rb')\n",
    "new_dict = pickle.load(infile)\n",
    "\n",
    "\n",
    "higgsDataMod = pd.DataFrame(new_dict)\n",
    "higgsData = pd.DataFrame(new_dict)\n",
    "# list all keys of the files\n",
    "new_dict.keys()"
   ]
  },
  {
   "cell_type": "code",
   "execution_count": 29,
   "metadata": {},
   "outputs": [
    {
     "data": {
      "text/plain": [
       "Index(['pt', 'eta', 'phi', 'mass', 'ee2', 'ee3', 'd2', 'angularity', 't1',\n",
       "       't2', 't3', 't21', 't32', 'KtDeltaR'],\n",
       "      dtype='object')"
      ]
     },
     "execution_count": 29,
     "metadata": {},
     "output_type": "execute_result"
    }
   ],
   "source": [
    "\n",
    "# open the file of interest, and use pickle loading\n",
    "infile = open (\"qcd_100000_pt_1000_1200.pkl\",'rb')\n",
    "new_dict = pickle.load(infile)\n",
    "\n",
    "qcdDataMod = pd.DataFrame(new_dict)\n",
    "qcdData = pd.DataFrame(new_dict)\n",
    "\n",
    "# list all keys of the files\n",
    "new_dict.keys()"
   ]
  },
  {
   "cell_type": "code",
   "execution_count": 30,
   "metadata": {},
   "outputs": [],
   "source": [
    "highLum=pd.read_hdf('data_highLumi_pt_1000_1200.h5')\n",
    "lowLum=pd.read_hdf('data_lowLumi_pt_1000_1200.h5')"
   ]
  },
  {
   "cell_type": "code",
   "execution_count": 31,
   "metadata": {},
   "outputs": [
    {
     "data": {
      "text/plain": [
       "(442, 14)"
      ]
     },
     "execution_count": 31,
     "metadata": {},
     "output_type": "execute_result"
    }
   ],
   "source": [
    "lowLum.shape"
   ]
  },
  {
   "cell_type": "code",
   "execution_count": 32,
   "metadata": {},
   "outputs": [
    {
     "data": {
      "text/plain": [
       "(4066, 14)"
      ]
     },
     "execution_count": 32,
     "metadata": {},
     "output_type": "execute_result"
    }
   ],
   "source": [
    "highLum.shape"
   ]
  },
  {
   "cell_type": "code",
   "execution_count": null,
   "metadata": {},
   "outputs": [],
   "source": [
    "\n"
   ]
  },
  {
   "cell_type": "code",
   "execution_count": null,
   "metadata": {},
   "outputs": [],
   "source": []
  },
  {
   "cell_type": "code",
   "execution_count": null,
   "metadata": {},
   "outputs": [],
   "source": []
  },
  {
   "cell_type": "code",
   "execution_count": 33,
   "metadata": {},
   "outputs": [
    {
     "data": {
      "text/html": [
       "<div>\n",
       "<style scoped>\n",
       "    .dataframe tbody tr th:only-of-type {\n",
       "        vertical-align: middle;\n",
       "    }\n",
       "\n",
       "    .dataframe tbody tr th {\n",
       "        vertical-align: top;\n",
       "    }\n",
       "\n",
       "    .dataframe thead th {\n",
       "        text-align: right;\n",
       "    }\n",
       "</style>\n",
       "<table border=\"1\" class=\"dataframe\">\n",
       "  <thead>\n",
       "    <tr style=\"text-align: right;\">\n",
       "      <th></th>\n",
       "      <th>pt</th>\n",
       "      <th>eta</th>\n",
       "      <th>phi</th>\n",
       "      <th>mass</th>\n",
       "      <th>ee2</th>\n",
       "      <th>ee3</th>\n",
       "      <th>d2</th>\n",
       "      <th>angularity</th>\n",
       "      <th>t1</th>\n",
       "      <th>t2</th>\n",
       "      <th>t3</th>\n",
       "      <th>t21</th>\n",
       "      <th>t32</th>\n",
       "      <th>KtDeltaR</th>\n",
       "    </tr>\n",
       "  </thead>\n",
       "  <tbody>\n",
       "    <tr>\n",
       "      <th>0</th>\n",
       "      <td>1014.701381</td>\n",
       "      <td>0.320861</td>\n",
       "      <td>1.662700</td>\n",
       "      <td>237.429321</td>\n",
       "      <td>0.119700</td>\n",
       "      <td>0.002641</td>\n",
       "      <td>1.539811</td>\n",
       "      <td>0.008410</td>\n",
       "      <td>1.020637</td>\n",
       "      <td>0.284296</td>\n",
       "      <td>0.259425</td>\n",
       "      <td>0.278548</td>\n",
       "      <td>0.912517</td>\n",
       "      <td>0.356557</td>\n",
       "    </tr>\n",
       "    <tr>\n",
       "      <th>1</th>\n",
       "      <td>1040.093465</td>\n",
       "      <td>-0.402904</td>\n",
       "      <td>0.657100</td>\n",
       "      <td>137.024953</td>\n",
       "      <td>0.028117</td>\n",
       "      <td>0.000290</td>\n",
       "      <td>13.035447</td>\n",
       "      <td>0.007623</td>\n",
       "      <td>0.924653</td>\n",
       "      <td>0.883464</td>\n",
       "      <td>0.682923</td>\n",
       "      <td>0.955454</td>\n",
       "      <td>0.773007</td>\n",
       "      <td>0.032092</td>\n",
       "    </tr>\n",
       "    <tr>\n",
       "      <th>2</th>\n",
       "      <td>1023.915889</td>\n",
       "      <td>-0.157793</td>\n",
       "      <td>1.352514</td>\n",
       "      <td>161.716106</td>\n",
       "      <td>0.046337</td>\n",
       "      <td>0.000674</td>\n",
       "      <td>6.771647</td>\n",
       "      <td>0.009618</td>\n",
       "      <td>0.938172</td>\n",
       "      <td>0.743193</td>\n",
       "      <td>0.663864</td>\n",
       "      <td>0.792171</td>\n",
       "      <td>0.893260</td>\n",
       "      <td>0.178641</td>\n",
       "    </tr>\n",
       "    <tr>\n",
       "      <th>3</th>\n",
       "      <td>1079.532839</td>\n",
       "      <td>-1.356773</td>\n",
       "      <td>-0.683310</td>\n",
       "      <td>85.629307</td>\n",
       "      <td>0.011316</td>\n",
       "      <td>0.000039</td>\n",
       "      <td>27.146507</td>\n",
       "      <td>0.000455</td>\n",
       "      <td>1.033940</td>\n",
       "      <td>0.927058</td>\n",
       "      <td>0.855880</td>\n",
       "      <td>0.896626</td>\n",
       "      <td>0.923222</td>\n",
       "      <td>0.010303</td>\n",
       "    </tr>\n",
       "    <tr>\n",
       "      <th>4</th>\n",
       "      <td>1167.522933</td>\n",
       "      <td>0.032726</td>\n",
       "      <td>-1.440446</td>\n",
       "      <td>345.520406</td>\n",
       "      <td>0.156304</td>\n",
       "      <td>0.006467</td>\n",
       "      <td>1.693575</td>\n",
       "      <td>0.011564</td>\n",
       "      <td>0.940346</td>\n",
       "      <td>0.555762</td>\n",
       "      <td>0.382950</td>\n",
       "      <td>0.591018</td>\n",
       "      <td>0.689055</td>\n",
       "      <td>0.349341</td>\n",
       "    </tr>\n",
       "    <tr>\n",
       "      <th>...</th>\n",
       "      <td>...</td>\n",
       "      <td>...</td>\n",
       "      <td>...</td>\n",
       "      <td>...</td>\n",
       "      <td>...</td>\n",
       "      <td>...</td>\n",
       "      <td>...</td>\n",
       "      <td>...</td>\n",
       "      <td>...</td>\n",
       "      <td>...</td>\n",
       "      <td>...</td>\n",
       "      <td>...</td>\n",
       "      <td>...</td>\n",
       "      <td>...</td>\n",
       "    </tr>\n",
       "    <tr>\n",
       "      <th>4061</th>\n",
       "      <td>1090.490389</td>\n",
       "      <td>-0.383384</td>\n",
       "      <td>0.580866</td>\n",
       "      <td>315.865016</td>\n",
       "      <td>0.148747</td>\n",
       "      <td>0.004730</td>\n",
       "      <td>1.437327</td>\n",
       "      <td>0.008757</td>\n",
       "      <td>0.899599</td>\n",
       "      <td>0.220003</td>\n",
       "      <td>0.165191</td>\n",
       "      <td>0.244556</td>\n",
       "      <td>0.750857</td>\n",
       "      <td>0.463219</td>\n",
       "    </tr>\n",
       "    <tr>\n",
       "      <th>4062</th>\n",
       "      <td>1024.261156</td>\n",
       "      <td>0.782132</td>\n",
       "      <td>-1.597681</td>\n",
       "      <td>114.142976</td>\n",
       "      <td>0.020067</td>\n",
       "      <td>0.000148</td>\n",
       "      <td>18.339293</td>\n",
       "      <td>0.003206</td>\n",
       "      <td>0.914173</td>\n",
       "      <td>0.848558</td>\n",
       "      <td>0.782821</td>\n",
       "      <td>0.928225</td>\n",
       "      <td>0.922531</td>\n",
       "      <td>0.015276</td>\n",
       "    </tr>\n",
       "    <tr>\n",
       "      <th>4063</th>\n",
       "      <td>1018.257604</td>\n",
       "      <td>0.658496</td>\n",
       "      <td>0.893016</td>\n",
       "      <td>55.924149</td>\n",
       "      <td>0.017371</td>\n",
       "      <td>0.000030</td>\n",
       "      <td>5.665910</td>\n",
       "      <td>0.001219</td>\n",
       "      <td>0.752979</td>\n",
       "      <td>0.345601</td>\n",
       "      <td>0.312060</td>\n",
       "      <td>0.458978</td>\n",
       "      <td>0.902950</td>\n",
       "      <td>0.092592</td>\n",
       "    </tr>\n",
       "    <tr>\n",
       "      <th>4064</th>\n",
       "      <td>1198.680592</td>\n",
       "      <td>0.307368</td>\n",
       "      <td>-1.514498</td>\n",
       "      <td>107.594697</td>\n",
       "      <td>0.015019</td>\n",
       "      <td>0.000039</td>\n",
       "      <td>11.637634</td>\n",
       "      <td>0.003877</td>\n",
       "      <td>0.605913</td>\n",
       "      <td>0.216714</td>\n",
       "      <td>0.203449</td>\n",
       "      <td>0.357665</td>\n",
       "      <td>0.938791</td>\n",
       "      <td>0.652686</td>\n",
       "    </tr>\n",
       "    <tr>\n",
       "      <th>4065</th>\n",
       "      <td>1029.062352</td>\n",
       "      <td>1.770082</td>\n",
       "      <td>-2.536356</td>\n",
       "      <td>143.519413</td>\n",
       "      <td>0.026447</td>\n",
       "      <td>0.000279</td>\n",
       "      <td>15.055871</td>\n",
       "      <td>0.000258</td>\n",
       "      <td>0.729948</td>\n",
       "      <td>0.526658</td>\n",
       "      <td>0.429366</td>\n",
       "      <td>0.721501</td>\n",
       "      <td>0.815266</td>\n",
       "      <td>0.853763</td>\n",
       "    </tr>\n",
       "  </tbody>\n",
       "</table>\n",
       "<p>4066 rows × 14 columns</p>\n",
       "</div>"
      ],
      "text/plain": [
       "               pt       eta       phi        mass       ee2       ee3  \\\n",
       "0     1014.701381  0.320861  1.662700  237.429321  0.119700  0.002641   \n",
       "1     1040.093465 -0.402904  0.657100  137.024953  0.028117  0.000290   \n",
       "2     1023.915889 -0.157793  1.352514  161.716106  0.046337  0.000674   \n",
       "3     1079.532839 -1.356773 -0.683310   85.629307  0.011316  0.000039   \n",
       "4     1167.522933  0.032726 -1.440446  345.520406  0.156304  0.006467   \n",
       "...           ...       ...       ...         ...       ...       ...   \n",
       "4061  1090.490389 -0.383384  0.580866  315.865016  0.148747  0.004730   \n",
       "4062  1024.261156  0.782132 -1.597681  114.142976  0.020067  0.000148   \n",
       "4063  1018.257604  0.658496  0.893016   55.924149  0.017371  0.000030   \n",
       "4064  1198.680592  0.307368 -1.514498  107.594697  0.015019  0.000039   \n",
       "4065  1029.062352  1.770082 -2.536356  143.519413  0.026447  0.000279   \n",
       "\n",
       "             d2  angularity        t1        t2        t3       t21       t32  \\\n",
       "0      1.539811    0.008410  1.020637  0.284296  0.259425  0.278548  0.912517   \n",
       "1     13.035447    0.007623  0.924653  0.883464  0.682923  0.955454  0.773007   \n",
       "2      6.771647    0.009618  0.938172  0.743193  0.663864  0.792171  0.893260   \n",
       "3     27.146507    0.000455  1.033940  0.927058  0.855880  0.896626  0.923222   \n",
       "4      1.693575    0.011564  0.940346  0.555762  0.382950  0.591018  0.689055   \n",
       "...         ...         ...       ...       ...       ...       ...       ...   \n",
       "4061   1.437327    0.008757  0.899599  0.220003  0.165191  0.244556  0.750857   \n",
       "4062  18.339293    0.003206  0.914173  0.848558  0.782821  0.928225  0.922531   \n",
       "4063   5.665910    0.001219  0.752979  0.345601  0.312060  0.458978  0.902950   \n",
       "4064  11.637634    0.003877  0.605913  0.216714  0.203449  0.357665  0.938791   \n",
       "4065  15.055871    0.000258  0.729948  0.526658  0.429366  0.721501  0.815266   \n",
       "\n",
       "      KtDeltaR  \n",
       "0     0.356557  \n",
       "1     0.032092  \n",
       "2     0.178641  \n",
       "3     0.010303  \n",
       "4     0.349341  \n",
       "...        ...  \n",
       "4061  0.463219  \n",
       "4062  0.015276  \n",
       "4063  0.092592  \n",
       "4064  0.652686  \n",
       "4065  0.853763  \n",
       "\n",
       "[4066 rows x 14 columns]"
      ]
     },
     "execution_count": 33,
     "metadata": {},
     "output_type": "execute_result"
    }
   ],
   "source": [
    "highLum"
   ]
  },
  {
   "cell_type": "code",
   "execution_count": 34,
   "metadata": {},
   "outputs": [
    {
     "data": {
      "text/plain": [
       "<matplotlib.legend.Legend at 0x7f541dd20850>"
      ]
     },
     "execution_count": 34,
     "metadata": {},
     "output_type": "execute_result"
    },
    {
     "data": {
      "image/png": "[encoded data removed]",
      "text/plain": [
       "<Figure size 720x216 with 1 Axes>"
      ]
     },
     "metadata": {
      "needs_background": "light"
     },
     "output_type": "display_data"
    }
   ],
   "source": [
    "plt.hist(highLum['mass'], bins=500, density= False,label ='High lum',alpha=0.75)\n",
    "plt.hist(qcdData['mass'], bins=500, density= False,label ='qcd mass',alpha=0.75)\n",
    "plt.show\n",
    "#plt.xlim([0,20])\n",
    "plt.legend()\n",
    "plt.hist(higgsData['mass'], bins=500, density= False,label ='higgs mass',alpha=0.5)\n",
    "plt.show\n",
    "plt.title('Mass')\n",
    "plt.ylabel('Probability')\n",
    "plt.xlabel('Mass in Gev')\n",
    "plt.xlim([110,140])\n",
    "plt.legend()"
   ]
  },
  {
   "cell_type": "code",
   "execution_count": null,
   "metadata": {},
   "outputs": [],
   "source": []
  },
  {
   "cell_type": "code",
   "execution_count": null,
   "metadata": {},
   "outputs": [],
   "source": []
  },
  {
   "cell_type": "code",
   "execution_count": 35,
   "metadata": {},
   "outputs": [
    {
     "data": {
      "text/plain": [
       "<function matplotlib.pyplot.show(*args, **kw)>"
      ]
     },
     "execution_count": 35,
     "metadata": {},
     "output_type": "execute_result"
    },
    {
     "data": {
      "image/png": "[encoded data removed]",
      "text/plain": [
       "<Figure size 720x216 with 1 Axes>"
      ]
     },
     "metadata": {
      "needs_background": "light"
     },
     "output_type": "display_data"
    }
   ],
   "source": [
    "plt.hist(lowLum['mass'], bins=500, density= False,label ='Low lum',alpha=1)\n",
    "plt.show"
   ]
  },
  {
   "cell_type": "code",
   "execution_count": null,
   "metadata": {},
   "outputs": [],
   "source": []
  },
  {
   "cell_type": "code",
   "execution_count": null,
   "metadata": {},
   "outputs": [],
   "source": []
  },
  {
   "cell_type": "code",
   "execution_count": null,
   "metadata": {},
   "outputs": [],
   "source": []
  },
  {
   "cell_type": "code",
   "execution_count": null,
   "metadata": {},
   "outputs": [],
   "source": []
  },
  {
   "cell_type": "code",
   "execution_count": 37,
   "metadata": {},
   "outputs": [
    {
     "data": {
      "text/plain": [
       "<function matplotlib.pyplot.show(*args, **kw)>"
      ]
     },
     "execution_count": 37,
     "metadata": {},
     "output_type": "execute_result"
    },
    {
     "data": {
      "image/png": "[encoded data removed]",
      "text/plain": [
       "<Figure size 720x216 with 1 Axes>"
      ]
     },
     "metadata": {
      "needs_background": "light"
     },
     "output_type": "display_data"
    }
   ],
   "source": [
    "\n",
    "histHighLum , binsEdg=np.histogram(np.array(highLum['mass']), bins=50, density= False)\n",
    "plt.bar(binsEdg[:-1], 2050*histHighLum/len(highLum['mass']), width=np.diff(binsEdg), align=\"edge\",alpha=0.40)\n",
    "plt.ylim([0,250])\n",
    "\n",
    "#x = [5]*len(qcdData['mass'])\n",
    "\n",
    "histQcd , binsEdg=np.histogram(np.array(qcdData['mass']), bins=50, density= False)\n",
    "plt.bar(binsEdg[:-1],2000 *histQcd/len(qcdData['mass']), width=np.diff(binsEdg), align=\"edge\",alpha=0.40)\n",
    "\n",
    "histHiggs , binsEdg=np.histogram(np.array(higgsData['mass']), bins=50, density= False)\n",
    "plt.bar(binsEdg[:-1],50*histHiggs/len(higgsData['mass']), width=np.diff(binsEdg), align=\"edge\",alpha=0.40)\n",
    "\n",
    "\n",
    "#plt.hist(2000*histQcd/len(qcdData['mass']), bins=50, density= False,label ='qcd mass',alpha=0.75)\n",
    "\n",
    "#hist , binsEdg=np.histogram(np.array(qcdData['mass']), bins=50, density= False)\n",
    "#plt.hist(50*higgsData['mass']/len(higgsData['mass']), bins=500, density= False,label ='higgs mass',alpha=0.5)\n",
    "\n",
    "plt.ylim([0,250])\n",
    "\n",
    "plt.show"
   ]
  },
  {
   "cell_type": "code",
   "execution_count": 38,
   "metadata": {},
   "outputs": [],
   "source": [
    "#histHiggs , binsEdg=np.histogram(np.array(higgsData['mass']), bins=50, density= False)\n",
    "#plt.bar(binsEdg[:-1],2000 *histHiggs/len(higgsData['mass'], width=np.diff(binsEdg), align=\"edge\",alpha=0.75)\n",
    "\n",
    "\n",
    "#plt.hist(2000*histQcd/len(qcdData['mass']), bins=50, density= False,label ='qcd mass',alpha=0.75)\n",
    "\n",
    "#hist , binsEdg=np.histogram(np.array(qcdData['mass']), bins=50, density= False)\n",
    "#plt.hist(50*higgsData['mass']/len(higgsData['mass']), bins=500, density= False,label ='higgs mass',alpha=0.5)\n",
    "\n",
    "\n",
    "\n",
    "#plt.show\n",
    "\n",
    "\n",
    "\n",
    "\n",
    "#plt.hist(x[0],bins=50, density= False,label ='qcd mass',alpha=0.75)"
   ]
  },
  {
   "cell_type": "code",
   "execution_count": null,
   "metadata": {},
   "outputs": [],
   "source": []
  },
  {
   "cell_type": "code",
   "execution_count": null,
   "metadata": {},
   "outputs": [],
   "source": []
  },
  {
   "cell_type": "code",
   "execution_count": null,
   "metadata": {},
   "outputs": [],
   "source": []
  },
  {
   "cell_type": "code",
   "execution_count": 39,
   "metadata": {},
   "outputs": [
    {
     "data": {
      "text/plain": [
       "100000"
      ]
     },
     "execution_count": 39,
     "metadata": {},
     "output_type": "execute_result"
    }
   ],
   "source": [
    "len(np.array(qcdData['mass']))"
   ]
  },
  {
   "cell_type": "code",
   "execution_count": null,
   "metadata": {},
   "outputs": [],
   "source": []
  },
  {
   "cell_type": "code",
   "execution_count": 40,
   "metadata": {},
   "outputs": [
    {
     "data": {
      "text/plain": [
       "100000"
      ]
     },
     "execution_count": 40,
     "metadata": {},
     "output_type": "execute_result"
    }
   ],
   "source": [
    "len(qcdData['mass'])"
   ]
  },
  {
   "cell_type": "code",
   "execution_count": 41,
   "metadata": {},
   "outputs": [
    {
     "name": "stderr",
     "output_type": "stream",
     "text": [
      "No handles with labels found to put in legend.\n"
     ]
    },
    {
     "data": {
      "text/plain": [
       "<matplotlib.legend.Legend at 0x7f542039aa50>"
      ]
     },
     "execution_count": 41,
     "metadata": {},
     "output_type": "execute_result"
    },
    {
     "data": {
      "image/png": "[encoded data removed]",
      "text/plain": [
       "<Figure size 720x216 with 1 Axes>"
      ]
     },
     "metadata": {
      "needs_background": "light"
     },
     "output_type": "display_data"
    }
   ],
   "source": [
    "histHighLum , binsEdg=np.histogram(np.array(highLum['KtDeltaR']), bins=50, density= False)\n",
    "plt.bar(binsEdg[:-1], 2050*histHighLum/len(highLum['KtDeltaR']), width=np.diff(binsEdg), align=\"edge\",alpha=0.40)\n",
    "plt.ylim([0,250])\n",
    "\n",
    "#x = [5]*len(qcdData['mass'])\n",
    "\n",
    "histQcd , binsEdg=np.histogram(np.array(qcdData['KtDeltaR']), bins=50, density= False)\n",
    "plt.bar(binsEdg[:-1],2000 *histQcd/len(qcdData['KtDeltaR']), width=np.diff(binsEdg), align=\"edge\",alpha=0.40)\n",
    "\n",
    "histHiggs , binsEdg=np.histogram(np.array(higgsData['KtDeltaR']), bins=50, density= False)\n",
    "plt.bar(binsEdg[:-1],50 *histHiggs/len(higgsData['KtDeltaR']), width=np.diff(binsEdg), align=\"edge\",alpha=0.40)\n",
    "\n",
    "plt.legend()"
   ]
  },
  {
   "cell_type": "code",
   "execution_count": 42,
   "metadata": {},
   "outputs": [
    {
     "data": {
      "text/plain": [
       "<matplotlib.legend.Legend at 0x7f541dd8b3d0>"
      ]
     },
     "execution_count": 42,
     "metadata": {},
     "output_type": "execute_result"
    },
    {
     "data": {
      "image/png": "[encoded data removed]",
      "text/plain": [
       "<Figure size 720x216 with 1 Axes>"
      ]
     },
     "metadata": {
      "needs_background": "light"
     },
     "output_type": "display_data"
    }
   ],
   "source": [
    "highLumMassCut=cut1(124.8,129,'mass',highLum)\n",
    "histHighLum , binsEdg=np.histogram(np.array(highLumMassCut['mass']), bins=30, density= False)\n",
    "plt.bar(binsEdg[:-1], 2050*histHighLum/len(highLum['mass']), width=np.diff(binsEdg), align=\"edge\",alpha=0.40,label ='obb mass')\n",
    "#plt.ylim([0,250])\n",
    "\n",
    "#x = [5]*len(qcdData['mass'])\n",
    "qcdDataMassCut=cut1(124.8,129,'mass',qcdData)\n",
    "histQcd , binsEdg1=np.histogram(np.array(qcdDataMassCut['mass']), bins=30, density= False)\n",
    "#plt.bar(binsEdg[:-1],2000 *histQcd/len(qcdData['mass']), width=np.diff(binsEdg), align=\"edge\",alpha=0.40,label ='Bkgd mass')\n",
    "\n",
    "higgsDataMassCut=cut1(124.8,129,'mass',higgsData)\n",
    "histHiggs , binsEdg2=np.histogram(np.array(higgsDataMassCut['mass']), bins=30, density= False)\n",
    "plt.bar(binsEdg[:-1],(50*histHiggs/len(higgsData['mass']))+(2000 *histQcd/len(qcdData['mass'])), width=np.diff(binsEdg), align=\"edge\",alpha=0.40,label ='expected mass mass')\n",
    "\n",
    "plt.legend()\n"
   ]
  },
  {
   "cell_type": "code",
   "execution_count": 43,
   "metadata": {},
   "outputs": [
    {
     "data": {
      "text/plain": [
       "<BarContainer object of 30 artists>"
      ]
     },
     "execution_count": 43,
     "metadata": {},
     "output_type": "execute_result"
    },
    {
     "data": {
      "image/png": "[encoded data removed]",
      "text/plain": [
       "<Figure size 720x216 with 1 Axes>"
      ]
     },
     "metadata": {
      "needs_background": "light"
     },
     "output_type": "display_data"
    }
   ],
   "source": [
    "highLumMassCut=cut1(124.8,129,'mass',highLum)\n",
    "histHighLum , binsEdg=np.histogram(np.array(highLumMassCut['mass']), bins=30, density= False)\n",
    "plt.bar(binsEdg[:-1], 2050*histHighLum/len(highLum['mass']), width=np.diff(binsEdg), align=\"edge\",alpha=0.40,label ='obb mass')\n",
    "#plt.ylim([0,250])\n",
    "\n",
    "#x = [5]*len(qcdData['mass'])\n",
    "qcdDataMassCut=cut1(124.8,129,'mass',qcdData)\n",
    "histQcd , binsEdg1=np.histogram(np.array(qcdDataMassCut['mass']), bins=30, density= False)\n",
    "plt.bar(binsEdg[:-1],2000 *histQcd/len(qcdData['mass']), width=np.diff(binsEdg), align=\"edge\",alpha=0.40,label ='Bkgd mass')\n",
    "\n",
    "higgsDataMassCut=cut1(124.8,129,'mass',higgsData)\n",
    "histHiggs , binsEdg2=np.histogram(np.array(higgsDataMassCut['mass']), bins=30, density= False)\n",
    "plt.bar(binsEdg[:-1],(50*histHiggs/len(higgsData['mass'])), width=np.diff(binsEdg), align=\"edge\",alpha=0.40,label ='higgs mass')\n",
    "\n"
   ]
  },
  {
   "cell_type": "code",
   "execution_count": 44,
   "metadata": {},
   "outputs": [
    {
     "data": {
      "text/plain": [
       "array([ 95,  80,  97,  83,  99,  95,  77,  95, 101,  74,  84,  85,  87,\n",
       "        86,  60,  80,  90,  89,  90,  95,  97,  96,  82,  80, 102,  94,\n",
       "        99,  92,  80,  88])"
      ]
     },
     "execution_count": 44,
     "metadata": {},
     "output_type": "execute_result"
    }
   ],
   "source": [
    "histQcd"
   ]
  },
  {
   "cell_type": "code",
   "execution_count": 45,
   "metadata": {},
   "outputs": [
    {
     "data": {
      "text/plain": [
       "array([ 799, 9429, 2439, 2354, 2421, 2616, 2627, 2962, 3051, 2949, 2846,\n",
       "       2692, 2614, 2489, 2295, 2274, 2234, 2007, 1925, 1857, 1815, 1582,\n",
       "       1554, 1474, 1421, 1294, 1335, 1258, 1176, 1169])"
      ]
     },
     "execution_count": 45,
     "metadata": {},
     "output_type": "execute_result"
    }
   ],
   "source": [
    "histQcd+histHiggs"
   ]
  },
  {
   "cell_type": "code",
   "execution_count": 46,
   "metadata": {},
   "outputs": [
    {
     "data": {
      "text/plain": [
       "array([124.80564268, 124.94536803, 125.08509338, 125.22481873,\n",
       "       125.36454408, 125.50426943, 125.64399478, 125.78372013,\n",
       "       125.92344548, 126.06317083, 126.20289619, 126.34262154,\n",
       "       126.48234689, 126.62207224, 126.76179759, 126.90152294,\n",
       "       127.04124829, 127.18097364, 127.32069899, 127.46042434,\n",
       "       127.60014969, 127.73987504, 127.87960039, 128.01932574,\n",
       "       128.15905109, 128.29877644, 128.4385018 , 128.57822715,\n",
       "       128.7179525 , 128.85767785, 128.9974032 ])"
      ]
     },
     "execution_count": 46,
     "metadata": {},
     "output_type": "execute_result"
    }
   ],
   "source": [
    "binsEdg1"
   ]
  },
  {
   "cell_type": "code",
   "execution_count": 47,
   "metadata": {},
   "outputs": [
    {
     "data": {
      "text/plain": [
       "array([124.80007558, 124.94006363, 125.08005168, 125.22003973,\n",
       "       125.36002777, 125.50001582, 125.64000387, 125.77999192,\n",
       "       125.91997996, 126.05996801, 126.19995606, 126.33994411,\n",
       "       126.47993215, 126.6199202 , 126.75990825, 126.8998963 ,\n",
       "       127.03988434, 127.17987239, 127.31986044, 127.45984849,\n",
       "       127.59983653, 127.73982458, 127.87981263, 128.01980068,\n",
       "       128.15978872, 128.29977677, 128.43976482, 128.57975287,\n",
       "       128.71974091, 128.85972896, 128.99971701])"
      ]
     },
     "execution_count": 47,
     "metadata": {},
     "output_type": "execute_result"
    }
   ],
   "source": [
    "binsEdg2"
   ]
  },
  {
   "cell_type": "code",
   "execution_count": 48,
   "metadata": {},
   "outputs": [
    {
     "data": {
      "text/plain": [
       "<matplotlib.legend.Legend at 0x7f541ff745d0>"
      ]
     },
     "execution_count": 48,
     "metadata": {},
     "output_type": "execute_result"
    },
    {
     "data": {
      "image/png": "[encoded data removed]",
      "text/plain": [
       "<Figure size 720x216 with 1 Axes>"
      ]
     },
     "metadata": {
      "needs_background": "light"
     },
     "output_type": "display_data"
    }
   ],
   "source": [
    "highLumCut2=cut1(0,2.5,'d2',highLumMassCut)\n",
    "histHighLum , binsEdg=np.histogram(np.array(highLumCut2['d2']), bins=30, density= False)\n",
    "plt.bar(binsEdg[:-1], 2050*histHighLum/len(highLum['mass']), width=np.diff(binsEdg), align=\"edge\",alpha=0.40,label ='obb mass')\n",
    "#plt.ylim([0,250])\n",
    "\n",
    "#x = [5]*len(qcdData['mass'])\n",
    "qcdDataCut2=cut1(0,2.5,'d2',qcdDataMassCut)\n",
    "histQcd , binsEdg1=np.histogram(np.array(qcdDataCut2['d2']), bins=30, density= False)\n",
    "#plt.bar(binsEdg[:-1],2000 *histQcd/len(qcdData['mass']), width=np.diff(binsEdg), align=\"edge\",alpha=0.40,label ='Bkgd mass')\n",
    "\n",
    "higgsDataCut2=cut1(0,2.5,'d2',higgsDataMassCut)\n",
    "histHiggs , binsEdg2=np.histogram(np.array(higgsDataCut2['d2']), bins=30, density= False)\n",
    "plt.bar(binsEdg[:-1],(50*histHiggs/len(higgsData['mass']))+(2000 *histQcd/len(qcdData['mass'])), width=np.diff(binsEdg), align=\"edge\",alpha=0.40,label ='expected mass mass')\n",
    "\n",
    "plt.legend()\n",
    "\n",
    "\n",
    "#higgsCut2,bkgdCut2=cut(0,2.5,'d2',higgsDataCut,qcdDataCut)\n",
    "\n"
   ]
  },
  {
   "cell_type": "code",
   "execution_count": 49,
   "metadata": {},
   "outputs": [
    {
     "data": {
      "text/plain": [
       "<matplotlib.legend.Legend at 0x7f5420660d90>"
      ]
     },
     "execution_count": 49,
     "metadata": {},
     "output_type": "execute_result"
    },
    {
     "data": {
      "image/png": "[encoded data removed]",
      "text/plain": [
       "<Figure size 720x216 with 1 Axes>"
      ]
     },
     "metadata": {
      "needs_background": "light"
     },
     "output_type": "display_data"
    }
   ],
   "source": [
    "highLumCut3=cut1(0.1,0.7,'KtDeltaR',highLumCut2)\n",
    "histHighLum , binsEdg=np.histogram(np.array(highLumCut3['KtDeltaR']), bins=30, density= False)\n",
    "plt.bar(binsEdg[:-1], 2050*histHighLum/len(highLum['mass']), width=np.diff(binsEdg), align=\"edge\",alpha=0.40,label ='obb mass')\n",
    "#plt.ylim([0,250])\n",
    "\n",
    "#x = [5]*len(qcdData['mass'])\n",
    "qcdDataCut3=cut1(0.1,0.7,'KtDeltaR',qcdDataCut2)\n",
    "histQcd , binsEdg1=np.histogram(np.array(qcdDataCut3['KtDeltaR']), bins=30, density= False)\n",
    "#plt.bar(binsEdg[:-1],2000 *histQcd/len(qcdData['mass']), width=np.diff(binsEdg), align=\"edge\",alpha=0.40,label ='Bkgd mass')\n",
    "\n",
    "higgsDataCut3=cut1(0.1,0.7,'KtDeltaR',higgsDataCut2)\n",
    "histHiggs , binsEdg2=np.histogram(np.array(higgsDataCut3['KtDeltaR']), bins=30, density= False)\n",
    "plt.bar(binsEdg[:-1],(50*histHiggs/len(higgsData['mass']))+(2000 *histQcd/len(qcdData['mass'])), width=np.diff(binsEdg), align=\"edge\",alpha=0.40,label ='expected mass mass')\n",
    "\n",
    "plt.legend()\n",
    "\n",
    "#x=cut(0.1,0.7,'KtDeltaR',higgsCut2,bkgdCut2)\n",
    "\n"
   ]
  },
  {
   "cell_type": "code",
   "execution_count": 50,
   "metadata": {},
   "outputs": [
    {
     "name": "stdout",
     "output_type": "stream",
     "text": [
      "We get a simga significance of inf\n",
      "number of higgs signla left 34.3\n",
      "number of background signla left 2.0\n"
     ]
    }
   ],
   "source": [
    "bkgdMean = 2000 * len(qcdDataCut3)/len(qcdData)\n",
    "    \n",
    "signalMean = 2050 * len(highLumCut3)/len(highLum)\n",
    "    \n",
    "p = (1-scipy.stats.poisson.cdf(signalMean, bkgdMean))\n",
    "\n",
    "print('We get a simga significance of {0:1.3f}'.format(stats.norm.ppf(1-p)))\n",
    "print('number of higgs signla left {0:1.1f}'.format(signalMean))\n",
    "print('number of background signla left {0:1.1f}'.format(bkgdMean))\n",
    " "
   ]
  },
  {
   "cell_type": "code",
   "execution_count": 51,
   "metadata": {},
   "outputs": [
    {
     "data": {
      "text/plain": [
       "100"
      ]
     },
     "execution_count": 51,
     "metadata": {},
     "output_type": "execute_result"
    }
   ],
   "source": [
    "len(qcdDataCut3)"
   ]
  },
  {
   "cell_type": "code",
   "execution_count": 52,
   "metadata": {},
   "outputs": [
    {
     "data": {
      "text/plain": [
       "(100, 14)"
      ]
     },
     "execution_count": 52,
     "metadata": {},
     "output_type": "execute_result"
    }
   ],
   "source": [
    "qcdDataCut3.shape"
   ]
  },
  {
   "cell_type": "code",
   "execution_count": 53,
   "metadata": {},
   "outputs": [
    {
     "name": "stdout",
     "output_type": "stream",
     "text": [
      "We get a simga significance of inf\n",
      "number of higgs signla left 68.0\n",
      "number of background signla left 4.1\n"
     ]
    }
   ],
   "source": [
    "bkgdMean = 4066 * len(qcdDataCut3)/len(qcdData)\n",
    "    \n",
    "signalMean = 4066 * len(highLumCut3)/len(highLum)\n",
    "    \n",
    "p = (1-scipy.stats.poisson.cdf(signalMean, bkgdMean))\n",
    "\n",
    "print('We get a simga significance of {0:1.3f}'.format(stats.norm.ppf(1-p)))\n",
    "print('number of higgs signla left {0:1.1f}'.format(signalMean))\n",
    "print('number of background signla left {0:1.1f}'.format(bkgdMean))"
   ]
  },
  {
   "cell_type": "code",
   "execution_count": 54,
   "metadata": {},
   "outputs": [
    {
     "data": {
      "text/plain": [
       "(4066, 14)"
      ]
     },
     "execution_count": 54,
     "metadata": {},
     "output_type": "execute_result"
    }
   ],
   "source": [
    "highLum.shape"
   ]
  },
  {
   "cell_type": "markdown",
   "metadata": {},
   "source": [
    "*low lum*"
   ]
  },
  {
   "cell_type": "code",
   "execution_count": 59,
   "metadata": {},
   "outputs": [
    {
     "data": {
      "text/plain": [
       "<function matplotlib.pyplot.show(*args, **kw)>"
      ]
     },
     "execution_count": 59,
     "metadata": {},
     "output_type": "execute_result"
    },
    {
     "data": {
      "image/png": "[encoded data removed]",
      "text/plain": [
       "<Figure size 720x216 with 1 Axes>"
      ]
     },
     "metadata": {
      "needs_background": "light"
     },
     "output_type": "display_data"
    }
   ],
   "source": [
    "histLowLum , binsEdg=np.histogram(np.array(lowLum['mass']), bins=50, density= False)\n",
    "plt.bar(binsEdg[:-1], 2050*histLowLum/len(lowLum['mass']), width=np.diff(binsEdg), align=\"edge\",alpha=0.40)\n",
    "plt.ylim([0,250])\n",
    "\n",
    "#x = [5]*len(qcdData['mass'])\n",
    "\n",
    "histQcd , binsEdg=np.histogram(np.array(qcdData['mass']), bins=50, density= False)\n",
    "plt.bar(binsEdg[:-1],2000 *histQcd/len(qcdData['mass']), width=np.diff(binsEdg), align=\"edge\",alpha=0.40)\n",
    "\n",
    "histHiggs , binsEdg=np.histogram(np.array(higgsData['mass']), bins=50, density= False)\n",
    "plt.bar(binsEdg[:-1],50*histHiggs/len(higgsData['mass']), width=np.diff(binsEdg), align=\"edge\",alpha=0.40)\n",
    "\n",
    "\n",
    "#plt.hist(2000*histQcd/len(qcdData['mass']), bins=50, density= False,label ='qcd mass',alpha=0.75)\n",
    "\n",
    "#hist , binsEdg=np.histogram(np.array(qcdData['mass']), bins=50, density= False)\n",
    "#plt.hist(50*higgsData['mass']/len(higgsData['mass']), bins=500, density= False,label ='higgs mass',alpha=0.5)\n",
    "\n",
    "plt.ylim([0,250])\n",
    "\n",
    "plt.show"
   ]
  },
  {
   "cell_type": "code",
   "execution_count": 66,
   "metadata": {},
   "outputs": [
    {
     "data": {
      "text/plain": [
       "<matplotlib.legend.Legend at 0x7f5424f8eed0>"
      ]
     },
     "execution_count": 66,
     "metadata": {},
     "output_type": "execute_result"
    },
    {
     "data": {
      "image/png": "[encoded data removed]",
      "text/plain": [
       "<Figure size 720x216 with 1 Axes>"
      ]
     },
     "metadata": {
      "needs_background": "light"
     },
     "output_type": "display_data"
    }
   ],
   "source": [
    "lowLumMassCut=cut1(124.8,129,'mass',lowLum)\n",
    "histLowLum , binsEdg=np.histogram(np.array(lowLumMassCut['mass']), bins=10, density= False)\n",
    "plt.bar(binsEdg[:-1], 2050*histLowLum/len(lowLum['mass']), width=np.diff(binsEdg), align=\"edge\",alpha=0.40,label ='obb mass')\n",
    "#plt.ylim([0,250])\n",
    "\n",
    "#x = [5]*len(qcdData['mass'])\n",
    "qcdDataMassCut=cut1(124.8,129,'mass',qcdData)\n",
    "histQcd , binsEdg1=np.histogram(np.array(qcdDataMassCut['mass']), bins=10, density= False)\n",
    "#plt.bar(binsEdg[:-1],2000 *histQcd/len(qcdData['mass']), width=np.diff(binsEdg), align=\"edge\",alpha=0.40,label ='Bkgd mass')\n",
    "\n",
    "higgsDataMassCut=cut1(124.8,129,'mass',higgsData)\n",
    "histHiggs , binsEdg2=np.histogram(np.array(higgsDataMassCut['mass']), bins=10, density= False)\n",
    "plt.bar(binsEdg[:-1],(50*histHiggs/len(higgsData['mass']))+(2000 *histQcd/len(qcdData['mass'])), width=np.diff(binsEdg), align=\"edge\",alpha=0.40,label ='expected mass mass')\n",
    "\n",
    "plt.legend()"
   ]
  },
  {
   "cell_type": "code",
   "execution_count": 72,
   "metadata": {},
   "outputs": [
    {
     "data": {
      "text/plain": [
       "<matplotlib.legend.Legend at 0x7f54249a2c10>"
      ]
     },
     "execution_count": 72,
     "metadata": {},
     "output_type": "execute_result"
    },
    {
     "data": {
      "image/png": "[encoded data removed]",
      "text/plain": [
       "<Figure size 720x216 with 1 Axes>"
      ]
     },
     "metadata": {
      "needs_background": "light"
     },
     "output_type": "display_data"
    }
   ],
   "source": [
    "lowLumCut2=cut1(0,2.5,'d2',lowLumMassCut)\n",
    "histlowLum , binsEdg=np.histogram(np.array(lowLumCut2['d2']), bins=5, density= False)\n",
    "plt.bar(binsEdg[:-1], 2050*histlowLum/len(lowLum['mass']), width=np.diff(binsEdg), align=\"edge\",alpha=0.40,label ='obb mass')\n",
    "#plt.ylim([0,250])\n",
    "\n",
    "#x = [5]*len(qcdData['mass'])\n",
    "qcdDataCut2=cut1(0,2.5,'d2',qcdDataMassCut)\n",
    "histQcd , binsEdg1=np.histogram(np.array(qcdDataCut2['d2']), bins=5, density= False)\n",
    "#plt.bar(binsEdg[:-1],2000 *histQcd/len(qcdData['mass']), width=np.diff(binsEdg), align=\"edge\",alpha=0.40,label ='Bkgd mass')\n",
    "\n",
    "higgsDataCut2=cut1(0,2.5,'d2',higgsDataMassCut)\n",
    "histHiggs , binsEdg2=np.histogram(np.array(higgsDataCut2['d2']), bins=5, density= False)\n",
    "plt.bar(binsEdg[:-1],(50*histHiggs/len(higgsData['mass']))+(2000 *histQcd/len(qcdData['mass'])), width=np.diff(binsEdg), align=\"edge\",alpha=0.40,label ='expected mass mass')\n",
    "\n",
    "plt.legend()\n",
    "\n"
   ]
  },
  {
   "cell_type": "code",
   "execution_count": 82,
   "metadata": {},
   "outputs": [
    {
     "data": {
      "text/plain": [
       "<matplotlib.legend.Legend at 0x7f541ebcdbd0>"
      ]
     },
     "execution_count": 82,
     "metadata": {},
     "output_type": "execute_result"
    },
    {
     "data": {
      "image/png": "[encoded data removed]",
      "text/plain": [
       "<Figure size 720x216 with 1 Axes>"
      ]
     },
     "metadata": {
      "needs_background": "light"
     },
     "output_type": "display_data"
    }
   ],
   "source": [
    "lowLumCut3=cut1(0.1,0.7,'KtDeltaR',lowLumCut2)\n",
    "histlowLum , binsEdg=np.histogram(np.array(lowLumCut3['KtDeltaR']), bins=10, density= False)\n",
    "plt.bar(binsEdg[:-1], 2050*histlowLum/len(lowLum['mass']), width=np.diff(binsEdg), align=\"edge\",alpha=0.40,label ='obb mass')\n",
    "#plt.ylim([0,250])\n",
    "\n",
    "#x = [5]*len(qcdData['mass'])\n",
    "qcdDataCut3=cut1(0.1,0.7,'KtDeltaR',qcdDataCut2)\n",
    "histQcd , binsEdg1=np.histogram(np.array(qcdDataCut3['KtDeltaR']), bins=10, density= False)\n",
    "plt.bar(binsEdg[:-1],2000 *histQcd/len(qcdData['mass']), width=np.diff(binsEdg), align=\"edge\",alpha=0.40,label ='Bkgd mass')\n",
    "\n",
    "higgsDataCut3=cut1(0.1,0.7,'KtDeltaR',higgsDataCut2)\n",
    "histHiggs , binsEdg2=np.histogram(np.array(higgsDataCut3['KtDeltaR']), bins=10, density= False)\n",
    "plt.bar(binsEdg[:-1],(50*histHiggs/len(higgsData['mass']))+(2000 *histQcd/len(qcdData['mass'])), width=np.diff(binsEdg), align=\"edge\",alpha=0.40,label ='expected mass mass')\n",
    "\n",
    "plt.legend()\n",
    "\n"
   ]
  },
  {
   "cell_type": "code",
   "execution_count": 85,
   "metadata": {},
   "outputs": [
    {
     "name": "stdout",
     "output_type": "stream",
     "text": [
      "We get a simga significance of 4.921\n",
      "number of higgs signla left 6.0\n",
      "number of background signla left 0.4\n"
     ]
    }
   ],
   "source": [
    "bkgdMean = 440 * len(qcdDataCut3)/len(qcdData)\n",
    "    \n",
    "signalMean = 442 * len(lowLumCut3)/len(lowLum)\n",
    "    \n",
    "p = (1-scipy.stats.poisson.cdf(signalMean, bkgdMean))\n",
    "\n",
    "print('We get a simga significance of {0:1.3f}'.format(stats.norm.ppf(1-p)))\n",
    "print('number of higgs signla left {0:1.1f}'.format(signalMean))\n",
    "print('number of background signla left {0:1.1f}'.format(bkgdMean))"
   ]
  },
  {
   "cell_type": "code",
   "execution_count": 79,
   "metadata": {},
   "outputs": [
    {
     "data": {
      "text/plain": [
       "(442, 14)"
      ]
     },
     "execution_count": 79,
     "metadata": {},
     "output_type": "execute_result"
    }
   ],
   "source": [
    "lowLum.shape"
   ]
  },
  {
   "cell_type": "code",
   "execution_count": 81,
   "metadata": {},
   "outputs": [
    {
     "data": {
      "text/plain": [
       "(6, 14)"
      ]
     },
     "execution_count": 81,
     "metadata": {},
     "output_type": "execute_result"
    }
   ],
   "source": [
    "lowLumCut3.shape"
   ]
  },
  {
   "cell_type": "code",
   "execution_count": null,
   "metadata": {},
   "outputs": [],
   "source": []
  }
 ],
 "metadata": {
  "kernelspec": {
   "display_name": "Python 3",
   "language": "python",
   "name": "python3"
  },
  "language_info": {
   "codemirror_mode": {
    "name": "ipython",
    "version": 3
   },
   "file_extension": ".py",
   "mimetype": "text/x-python",
   "name": "python",
   "nbconvert_exporter": "python",
   "pygments_lexer": "ipython3",
   "version": "3.7.4"
  }
 },
 "nbformat": 4,
 "nbformat_minor": 4
}
