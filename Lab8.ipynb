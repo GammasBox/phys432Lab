{
 "cells": [
  {
   "cell_type": "markdown",
   "metadata": {},
   "source": [
    "*Lab 8*\n",
    "\n",
    "\n",
    "\n",
    "We will now deal with pseudo data, \n",
    "1. \n",
    "We will look at some high lum data first, we will focus on mass, two prong jet discriminant (2d) and KtDeltaR features as they are what we will be doing cuts on. Let’s start with some plots of the pseudo data overlaid with the simulated model data before cuts\n"
   ]
  },
  {
   "cell_type": "code",
   "execution_count": 43,
   "metadata": {},
   "outputs": [],
   "source": [
    "%matplotlib inline\n",
    "import numpy as np\n",
    "import matplotlib\n",
    "import matplotlib.pyplot as plt\n",
    "import scipy\n",
    "from scipy import stats\n",
    "import h5py\n",
    "import pandas as pd\n",
    "import math\n",
    "from scipy import optimize\n",
    "\n",
    "#this sets the size of the plot to something useful\n",
    "plt.rcParams[\"figure.figsize\"] = (10,3)"
   ]
  },
  {
   "cell_type": "code",
   "execution_count": 44,
   "metadata": {},
   "outputs": [],
   "source": [
    "def cut(low,high,feature,signal,bkgd):\n",
    "    bkgdDataCut =bkgd[ bkgd[feature]>low]\n",
    "    bkgdDataCut=bkgdDataCut[bkgdDataCut[feature]<high]\n",
    "    \n",
    "    signalDatacut=signal[signal[feature]>low]\n",
    "    signalDatacut=signalDatacut[signalDatacut[feature]<high]\n",
    "    \n",
    "    bkgdMean = 2000 * len(bkgdDataCut[feature])/len(qcdData[feature])\n",
    "    \n",
    "    signalMean = 50 * len(signalDatacut[feature])/len(higgsData[feature])\n",
    "    \n",
    "    p = (1-scipy.stats.poisson.cdf(bkgdMean+signalMean, bkgdMean))\n",
    "    print('We get a simga significance of {0:1.3f} for a cut from {1:1.1f} to {2:1.1f}'.format(stats.norm.ppf(1-p),low,high))\n",
    "    print('number of higgs signla left {0:1.1f}'.format(signalMean))\n",
    "    print('number of background signla left {0:1.1f}'.format(bkgdMean))\n",
    "    #print(signalMean)\n",
    "    \n",
    "    return(signalDatacut,bkgdDataCut)\n",
    "\n",
    "def cut1(low,high,feature,signal):    \n",
    "    signalDatacut=signal[signal[feature]>low]\n",
    "    signalDatacut1=signalDatacut[signalDatacut[feature]<high]\n",
    "    \n",
    "    return(signalDatacut1)"
   ]
  },
  {
   "cell_type": "code",
   "execution_count": 45,
   "metadata": {},
   "outputs": [
    {
     "data": {
      "text/plain": [
       "Index(['pt', 'eta', 'phi', 'mass', 'ee2', 'ee3', 'd2', 'angularity', 't1',\n",
       "       't2', 't3', 't21', 't32', 'KtDeltaR'],\n",
       "      dtype='object')"
      ]
     },
     "execution_count": 45,
     "metadata": {},
     "output_type": "execute_result"
    }
   ],
   "source": [
    "# import library\n",
    "import pickle\n",
    "\n",
    "# open the file of interest, and use pickle loading\n",
    "infile = open (\"higgs_100000_pt_1000_1200.pkl\",'rb')\n",
    "new_dict = pickle.load(infile)\n",
    "\n",
    "\n",
    "higgsDataMod = pd.DataFrame(new_dict)\n",
    "higgsData = pd.DataFrame(new_dict)\n",
    "# list all keys of the files\n",
    "new_dict.keys()"
   ]
  },
  {
   "cell_type": "code",
   "execution_count": 46,
   "metadata": {},
   "outputs": [
    {
     "data": {
      "text/plain": [
       "Index(['pt', 'eta', 'phi', 'mass', 'ee2', 'ee3', 'd2', 'angularity', 't1',\n",
       "       't2', 't3', 't21', 't32', 'KtDeltaR'],\n",
       "      dtype='object')"
      ]
     },
     "execution_count": 46,
     "metadata": {},
     "output_type": "execute_result"
    }
   ],
   "source": [
    "\n",
    "# open the file of interest, and use pickle loading\n",
    "infile = open (\"qcd_100000_pt_1000_1200.pkl\",'rb')\n",
    "new_dict = pickle.load(infile)\n",
    "\n",
    "qcdDataMod = pd.DataFrame(new_dict)\n",
    "qcdData = pd.DataFrame(new_dict)\n",
    "\n",
    "# list all keys of the files\n",
    "new_dict.keys()"
   ]
  },
  {
   "cell_type": "code",
   "execution_count": 47,
   "metadata": {},
   "outputs": [],
   "source": [
    "highLum=pd.read_hdf('data_highLumi_pt_1000_1200.h5')\n",
    "lowLum=pd.read_hdf('data_lowLumi_pt_1000_1200.h5')"
   ]
  },
  {
   "cell_type": "code",
   "execution_count": 48,
   "metadata": {},
   "outputs": [
    {
     "data": {
      "text/plain": [
       "(442, 14)"
      ]
     },
     "execution_count": 48,
     "metadata": {},
     "output_type": "execute_result"
    }
   ],
   "source": [
    "lowLum.shape"
   ]
  },
  {
   "cell_type": "code",
   "execution_count": 49,
   "metadata": {},
   "outputs": [
    {
     "data": {
      "text/plain": [
       "(4066, 14)"
      ]
     },
     "execution_count": 49,
     "metadata": {},
     "output_type": "execute_result"
    }
   ],
   "source": [
    "highLum.shape"
   ]
  },
  {
   "cell_type": "code",
   "execution_count": null,
   "metadata": {},
   "outputs": [],
   "source": [
    "\n"
   ]
  },
  {
   "cell_type": "code",
   "execution_count": null,
   "metadata": {},
   "outputs": [],
   "source": []
  },
  {
   "cell_type": "code",
   "execution_count": null,
   "metadata": {},
   "outputs": [],
   "source": []
  },
  {
   "cell_type": "code",
   "execution_count": null,
   "metadata": {},
   "outputs": [],
   "source": []
  },
  {
   "cell_type": "code",
   "execution_count": null,
   "metadata": {},
   "outputs": [],
   "source": []
  },
  {
   "cell_type": "code",
   "execution_count": null,
   "metadata": {},
   "outputs": [],
   "source": []
  },
  {
   "cell_type": "code",
   "execution_count": null,
   "metadata": {},
   "outputs": [],
   "source": []
  },
  {
   "cell_type": "code",
   "execution_count": null,
   "metadata": {},
   "outputs": [],
   "source": []
  },
  {
   "cell_type": "code",
   "execution_count": null,
   "metadata": {},
   "outputs": [],
   "source": []
  },
  {
   "cell_type": "code",
   "execution_count": null,
   "metadata": {},
   "outputs": [],
   "source": []
  },
  {
   "cell_type": "code",
   "execution_count": null,
   "metadata": {},
   "outputs": [],
   "source": []
  },
  {
   "cell_type": "code",
   "execution_count": null,
   "metadata": {},
   "outputs": [],
   "source": []
  },
  {
   "cell_type": "code",
   "execution_count": 50,
   "metadata": {},
   "outputs": [
    {
     "data": {
      "text/plain": [
       "<function matplotlib.pyplot.show(*args, **kw)>"
      ]
     },
     "execution_count": 50,
     "metadata": {},
     "output_type": "execute_result"
    },
    {
     "data": {
      "image/png": "[encoded data removed]",
      "text/plain": [
       "<Figure size 720x216 with 1 Axes>"
      ]
     },
     "metadata": {
      "needs_background": "light"
     },
     "output_type": "display_data"
    }
   ],
   "source": [
    "\n",
    "histHighLum , binsEdg=np.histogram(np.array(highLum['mass']), bins=500, density= False)\n",
    "plt.bar(binsEdg[:-1], 2050*histHighLum/len(highLum['mass']),label ='high lum', width=np.diff(binsEdg), align=\"edge\",alpha=0.40)\n",
    "plt.ylim([0,250])\n",
    "\n",
    "#x = [5]*len(qcdData['mass'])\n",
    "\n",
    "histQcd , binsEdg=np.histogram(np.array(qcdData['mass']), bins=500, density= False)\n",
    "plt.bar(binsEdg[:-1],2000 *histQcd/len(qcdData['mass']),label ='qcd', width=np.diff(binsEdg), align=\"edge\",alpha=0.40)\n",
    "\n",
    "histHiggs , binsEdg=np.histogram(np.array(higgsData['mass']), bins=50, density= False)\n",
    "plt.bar(binsEdg[:-1],50*histHiggs/len(higgsData['mass']),label ='higgs', width=np.diff(binsEdg), align=\"edge\",alpha=0.40)\n",
    "plt.legend()\n",
    "plt.title('Mass')\n",
    "plt.ylabel('count')\n",
    "plt.xlabel('Mass in Gev')\n",
    "\n",
    "plt.ylim([0,50])\n",
    "\n",
    "plt.show"
   ]
  },
  {
   "cell_type": "code",
   "execution_count": 51,
   "metadata": {},
   "outputs": [],
   "source": [
    "#histHiggs , binsEdg=np.histogram(np.array(higgsData['mass']), bins=50, density= Fa"
   ]
  },
  {
   "cell_type": "code",
   "execution_count": 52,
   "metadata": {},
   "outputs": [
    {
     "data": {
      "text/plain": [
       "Text(0.5, 0, 'Two prong jet discriminant')"
      ]
     },
     "execution_count": 52,
     "metadata": {},
     "output_type": "execute_result"
    },
    {
     "data": {
      "image/png": "[encoded data removed]",
      "text/plain": [
       "<Figure size 720x216 with 1 Axes>"
      ]
     },
     "metadata": {
      "needs_background": "light"
     },
     "output_type": "display_data"
    }
   ],
   "source": [
    "\n",
    "histHighLum , binsEdg=np.histogram(np.array(highLum['d2']), bins=300, density= False)\n",
    "plt.bar(binsEdg[:-1], 2050*histHighLum/len(highLum['mass']), width=np.diff(binsEdg), align=\"edge\",alpha=0.40,label ='High lum')\n",
    "\n",
    "\n",
    "histQcd , binsEdg1=np.histogram(np.array(qcdData['d2']), bins=300, density= False)\n",
    "plt.bar(binsEdg[:-1],2000 *histQcd/len(qcdData['mass']), width=np.diff(binsEdg), align=\"edge\",alpha=0.40,label ='QCD')\n",
    "\n",
    "histHiggs , binsEdg2=np.histogram(np.array(higgsData['d2']), bins=300, density= False)\n",
    "plt.bar(binsEdg[:-1],(50*histHiggs/len(higgsData['mass'])), width=np.diff(binsEdg), align=\"edge\",alpha=0.40,label ='Higgs')\n",
    "\n",
    "plt.legend()\n",
    "\n",
    "plt.title('Two prong jet discriminant')\n",
    "plt.ylabel('count')\n",
    "plt.xlabel('Two prong jet discriminant')"
   ]
  },
  {
   "cell_type": "code",
   "execution_count": null,
   "metadata": {},
   "outputs": [],
   "source": []
  },
  {
   "cell_type": "code",
   "execution_count": null,
   "metadata": {},
   "outputs": [],
   "source": []
  },
  {
   "cell_type": "code",
   "execution_count": null,
   "metadata": {},
   "outputs": [],
   "source": []
  },
  {
   "cell_type": "code",
   "execution_count": null,
   "metadata": {},
   "outputs": [],
   "source": []
  },
  {
   "cell_type": "code",
   "execution_count": null,
   "metadata": {},
   "outputs": [],
   "source": []
  },
  {
   "cell_type": "code",
   "execution_count": 53,
   "metadata": {},
   "outputs": [
    {
     "data": {
      "text/plain": [
       "<matplotlib.legend.Legend at 0x7fe2ee7b75d0>"
      ]
     },
     "execution_count": 53,
     "metadata": {},
     "output_type": "execute_result"
    },
    {
     "data": {
      "image/png": "[encoded data removed]",
      "text/plain": [
       "<Figure size 720x216 with 1 Axes>"
      ]
     },
     "metadata": {
      "needs_background": "light"
     },
     "output_type": "display_data"
    }
   ],
   "source": [
    "histHighLum , binsEdg=np.histogram(np.array(highLum['KtDeltaR']), bins=500, density= False)\n",
    "plt.bar(binsEdg[:-1], 2050*histHighLum/len(highLum['KtDeltaR']), label ='high lum',width=np.diff(binsEdg), align=\"edge\",alpha=0.40)\n",
    "plt.ylim([0,250])\n",
    "\n",
    "#x = [5]*len(qcdData['mass'])\n",
    "plt.ylabel('count')\n",
    "plt.xlabel('KtDeltaR')\n",
    "plt.title('KtDeltaR')\n",
    "\n",
    "plt.ylim([0,50])\n",
    "\n",
    "histQcd , binsEdg=np.histogram(np.array(qcdData['KtDeltaR']), bins=500, density= False)\n",
    "plt.bar(binsEdg[:-1],2000 *histQcd/len(qcdData['KtDeltaR']), label ='qcd',width=np.diff(binsEdg), align=\"edge\",alpha=0.40)\n",
    "\n",
    "histHiggs , binsEdg=np.histogram(np.array(higgsData['KtDeltaR']), bins=200, density= False)\n",
    "plt.bar(binsEdg[:-1],50 *histHiggs/len(higgsData['KtDeltaR']), label ='higgs',width=np.diff(binsEdg), align=\"edge\",alpha=0.40)\n",
    "\n",
    "plt.legend()"
   ]
  },
  {
   "cell_type": "markdown",
   "metadata": {},
   "source": [
    "Now lets make some cuts, lets start with the mass cut and still overlay what we expect to see with the high lum run data"
   ]
  },
  {
   "cell_type": "code",
   "execution_count": 54,
   "metadata": {},
   "outputs": [
    {
     "data": {
      "text/plain": [
       "<matplotlib.legend.Legend at 0x7fe2ef82b390>"
      ]
     },
     "execution_count": 54,
     "metadata": {},
     "output_type": "execute_result"
    },
    {
     "data": {
      "image/png": "[encoded data removed]",
      "text/plain": [
       "<Figure size 720x216 with 1 Axes>"
      ]
     },
     "metadata": {
      "needs_background": "light"
     },
     "output_type": "display_data"
    }
   ],
   "source": [
    "highLumMassCut=cut1(124.8,129,'mass',highLum)\n",
    "histHighLum , binsEdg=np.histogram(np.array(highLumMassCut['mass']), bins=30, density= False)\n",
    "plt.bar(binsEdg[:-1], 2050*histHighLum/len(highLum['mass']), width=np.diff(binsEdg), label ='high lum',align=\"edge\",alpha=0.40)\n",
    "#plt.ylim([0,250])\n",
    "\n",
    "#x = [5]*len(qcdData['mass'])\n",
    "qcdDataMassCut=cut1(124.8,129,'mass',qcdData)\n",
    "histQcd , binsEdg1=np.histogram(np.array(qcdDataMassCut['mass']), bins=30, density= False)\n",
    "plt.bar(binsEdg[:-1],2000 *histQcd/len(qcdData['mass']), width=np.diff(binsEdg), label ='qcd',align=\"edge\",alpha=0.40)\n",
    "\n",
    "higgsDataMassCut=cut1(124.8,129,'mass',higgsData)\n",
    "histHiggs , binsEdg2=np.histogram(np.array(higgsDataMassCut['mass']), bins=30, density= False)\n",
    "plt.bar(binsEdg[:-1],(50*histHiggs/len(higgsData['mass'])), width=np.diff(binsEdg),label ='higgs', align=\"edge\",alpha=0.40)\n",
    "\n",
    "\n",
    "plt.title('mass cut')\n",
    "plt.ylabel('Probability')\n",
    "plt.xlabel('Mass in Gev')\n",
    "\n",
    "plt.legend()"
   ]
  },
  {
   "cell_type": "code",
   "execution_count": null,
   "metadata": {},
   "outputs": [],
   "source": []
  },
  {
   "cell_type": "code",
   "execution_count": null,
   "metadata": {},
   "outputs": [],
   "source": []
  },
  {
   "cell_type": "code",
   "execution_count": null,
   "metadata": {},
   "outputs": [],
   "source": []
  },
  {
   "cell_type": "code",
   "execution_count": null,
   "metadata": {},
   "outputs": [],
   "source": []
  },
  {
   "cell_type": "code",
   "execution_count": 55,
   "metadata": {},
   "outputs": [
    {
     "data": {
      "text/plain": [
       "Text(0.5, 0, 'Two prong jet discriminant')"
      ]
     },
     "execution_count": 55,
     "metadata": {},
     "output_type": "execute_result"
    },
    {
     "data": {
      "image/png": "[encoded data removed]",
      "text/plain": [
       "<Figure size 720x216 with 1 Axes>"
      ]
     },
     "metadata": {
      "needs_background": "light"
     },
     "output_type": "display_data"
    }
   ],
   "source": [
    "highLumCut2=cut1(0,2.5,'d2',highLumMassCut)\n",
    "histHighLum , binsEdg=np.histogram(np.array(highLumCut2['d2']), bins=30, density= False)\n",
    "plt.bar(binsEdg[:-1], 2050*histHighLum/len(highLum['mass']), width=np.diff(binsEdg), align=\"edge\",alpha=0.40,label ='High lum')\n",
    "#plt.ylim([0,250])\n",
    "\n",
    "#x = [5]*len(qcdData['mass'])\n",
    "qcdDataCut2=cut1(0,2.5,'d2',qcdDataMassCut)\n",
    "histQcd , binsEdg1=np.histogram(np.array(qcdDataCut2['d2']), bins=30, density= False)\n",
    "plt.bar(binsEdg[:-1],2000 *histQcd/len(qcdData['mass']), width=np.diff(binsEdg), align=\"edge\",alpha=0.40,label ='QCD')\n",
    "\n",
    "higgsDataCut2=cut1(0,2.5,'d2',higgsDataMassCut)\n",
    "histHiggs , binsEdg2=np.histogram(np.array(higgsDataCut2['d2']), bins=30, density= False)\n",
    "plt.bar(binsEdg[:-1],(50*histHiggs/len(higgsData['mass'])), width=np.diff(binsEdg), align=\"edge\",alpha=0.40,label ='Higgs')\n",
    "\n",
    "plt.legend()\n",
    "\n",
    "plt.title('Two prong jet discriminant cut')\n",
    "plt.ylabel('count')\n",
    "plt.xlabel('Two prong jet discriminant')\n",
    "#higgsCut2,bkgdCut2=cut(0,2.5,'d2',higgsDataCut,qcdDataCut)\n",
    "\n"
   ]
  },
  {
   "cell_type": "code",
   "execution_count": 56,
   "metadata": {},
   "outputs": [
    {
     "data": {
      "text/plain": [
       "<matplotlib.legend.Legend at 0x7fe2f5eb11d0>"
      ]
     },
     "execution_count": 56,
     "metadata": {},
     "output_type": "execute_result"
    },
    {
     "data": {
      "image/png": "[encoded data removed]",
      "text/plain": [
       "<Figure size 720x216 with 1 Axes>"
      ]
     },
     "metadata": {
      "needs_background": "light"
     },
     "output_type": "display_data"
    }
   ],
   "source": [
    "highLumCut3=cut1(0.1,0.7,'KtDeltaR',highLumCut2)\n",
    "histHighLum , binsEdg=np.histogram(np.array(highLumCut3['KtDeltaR']), bins=30, density= False)\n",
    "plt.bar(binsEdg[:-1], 2050*histHighLum/len(highLum['mass']), width=np.diff(binsEdg), align=\"edge\",alpha=0.40,label ='High lum')\n",
    "#plt.ylim([0,250])\n",
    "\n",
    "#x = [5]*len(qcdData['mass'])\n",
    "qcdDataCut3=cut1(0.1,0.7,'KtDeltaR',qcdDataCut2)\n",
    "histQcd , binsEdg1=np.histogram(np.array(qcdDataCut3['KtDeltaR']), bins=30, density= False)\n",
    "plt.bar(binsEdg[:-1],2000 *histQcd/len(qcdData['mass']), width=np.diff(binsEdg), align=\"edge\",alpha=0.40,label ='QCD')\n",
    "\n",
    "higgsDataCut3=cut1(0.1,0.7,'KtDeltaR',higgsDataCut2)\n",
    "histHiggs , binsEdg2=np.histogram(np.array(higgsDataCut3['KtDeltaR']), bins=30, density= False)\n",
    "plt.bar(binsEdg[:-1],(50*histHiggs/len(higgsData['mass'])), width=np.diff(binsEdg), align=\"edge\",alpha=0.40,label ='higgs')\n",
    "\n",
    "plt.ylabel('count')\n",
    "plt.xlabel('KtDeltaR')\n",
    "plt.title('KtDeltaR cut')\n",
    "\n",
    "plt.legend()\n",
    "\n",
    "#x=cut(0.1,0.7,'KtDeltaR',higgsCut2,bkgdCut2)\n",
    "\n"
   ]
  },
  {
   "cell_type": "code",
   "execution_count": null,
   "metadata": {},
   "outputs": [],
   "source": []
  },
  {
   "cell_type": "code",
   "execution_count": null,
   "metadata": {},
   "outputs": [],
   "source": []
  },
  {
   "cell_type": "markdown",
   "metadata": {},
   "source": [
    "lets calculate our significance, it is important to note that we were able in lab 7 to get ridiculously good cuts, which we see in the inf signifigance since we are able to cut out all but 4 of the background signal out and have a reading of 68 of our high lum, so we can claim a deletion. This signal strength is a bit lower that what would be expected from the theory but not by a lot. "
   ]
  },
  {
   "cell_type": "code",
   "execution_count": 57,
   "metadata": {},
   "outputs": [
    {
     "name": "stdout",
     "output_type": "stream",
     "text": [
      "We get a simga significance of inf\n",
      "number of high lum signal left after cuts 68.0\n",
      "number of expected background signal left after cuts 4.1\n"
     ]
    }
   ],
   "source": [
    "bkgdMean = 4066 * len(qcdDataCut3)/len(qcdData)\n",
    "    \n",
    "signalMean = 4066 * len(highLumCut3)/len(highLum)\n",
    "    \n",
    "p = (1-scipy.stats.poisson.cdf(signalMean, bkgdMean))\n",
    "\n",
    "print('We get a simga significance of {0:1.3f}'.format(stats.norm.ppf(1-p)))\n",
    "print('number of high lum signal left after cuts {0:1.1f}'.format(signalMean))\n",
    "print('number of expected background signal left after cuts {0:1.1f}'.format(bkgdMean))"
   ]
  },
  {
   "cell_type": "code",
   "execution_count": null,
   "metadata": {},
   "outputs": [],
   "source": []
  },
  {
   "cell_type": "markdown",
   "metadata": {},
   "source": [
    "\n",
    "lets do the same with the low lum data"
   ]
  },
  {
   "cell_type": "code",
   "execution_count": 58,
   "metadata": {},
   "outputs": [
    {
     "data": {
      "text/plain": [
       "<function matplotlib.pyplot.show(*args, **kw)>"
      ]
     },
     "execution_count": 58,
     "metadata": {},
     "output_type": "execute_result"
    },
    {
     "data": {
      "image/png": "[encoded data removed]",
      "text/plain": [
       "<Figure size 720x216 with 1 Axes>"
      ]
     },
     "metadata": {
      "needs_background": "light"
     },
     "output_type": "display_data"
    }
   ],
   "source": [
    "histLowLum , binsEdg=np.histogram(np.array(lowLum['mass']), bins=1000, density= False)\n",
    "plt.bar(binsEdg[:-1], 2050*histLowLum/len(lowLum['mass']),label ='Low lum', width=np.diff(binsEdg), align=\"edge\",alpha=0.40)\n",
    "#plt.ylim([0,250])\n",
    "\n",
    "\n",
    "histQcd , binsEdg=np.histogram(np.array(qcdData['mass']), bins=1000, density= False)\n",
    "plt.bar(binsEdg[:-1],2000 *histQcd/len(qcdData['mass']),label ='qcd', width=np.diff(binsEdg), align=\"edge\",alpha=0.40)\n",
    "\n",
    "histHiggs , binsEdg=np.histogram(np.array(higgsData['mass']), bins=200, density= False)\n",
    "plt.bar(binsEdg[:-1],50*histHiggs/len(higgsData['mass']),label ='Higgs', width=np.diff(binsEdg), align=\"edge\",alpha=0.40)\n",
    "\n",
    "plt.title('Mass')\n",
    "plt.ylabel('count')\n",
    "plt.xlabel('Mass in Gev')\n",
    "\n",
    "plt.legend()\n",
    "plt.show\n"
   ]
  },
  {
   "cell_type": "code",
   "execution_count": null,
   "metadata": {},
   "outputs": [],
   "source": []
  },
  {
   "cell_type": "code",
   "execution_count": 59,
   "metadata": {},
   "outputs": [
    {
     "data": {
      "text/plain": [
       "<matplotlib.legend.Legend at 0x7fe2f494ad90>"
      ]
     },
     "execution_count": 59,
     "metadata": {},
     "output_type": "execute_result"
    },
    {
     "data": {
      "image/png": "[encoded data removed]",
      "text/plain": [
       "<Figure size 720x216 with 1 Axes>"
      ]
     },
     "metadata": {
      "needs_background": "light"
     },
     "output_type": "display_data"
    }
   ],
   "source": [
    "histLowLum , binsEdg=np.histogram(np.array(lowLum['KtDeltaR']), bins=500, density= False)\n",
    "plt.bar(binsEdg[:-1], 2050*histLowLum/len(lowLum['KtDeltaR']), label ='Low lum',width=np.diff(binsEdg), align=\"edge\",alpha=0.40)\n",
    "plt.ylim([0,250])\n",
    "\n",
    "#x = [5]*len(qcdData['mass'])\n",
    "plt.ylabel('count')\n",
    "plt.xlabel('KtDeltaR')\n",
    "plt.title('KtDeltaR')\n",
    "\n",
    "plt.ylim([0,50])\n",
    "\n",
    "histQcd , binsEdg=np.histogram(np.array(qcdData['KtDeltaR']), bins=500, density= False)\n",
    "plt.bar(binsEdg[:-1],2000 *histQcd/len(qcdData['KtDeltaR']), label ='qcd',width=np.diff(binsEdg), align=\"edge\",alpha=0.40)\n",
    "\n",
    "histHiggs , binsEdg=np.histogram(np.array(higgsData['KtDeltaR']), bins=200, density= False)\n",
    "plt.bar(binsEdg[:-1],50 *histHiggs/len(higgsData['KtDeltaR']), label ='higgs',width=np.diff(binsEdg), align=\"edge\",alpha=0.40)\n",
    "\n",
    "plt.legend()"
   ]
  },
  {
   "cell_type": "code",
   "execution_count": 60,
   "metadata": {},
   "outputs": [
    {
     "data": {
      "text/plain": [
       "Text(0.5, 0, 'Two prong jet discriminant')"
      ]
     },
     "execution_count": 60,
     "metadata": {},
     "output_type": "execute_result"
    },
    {
     "data": {
      "image/png": "[encoded data removed]",
      "text/plain": [
       "<Figure size 720x216 with 1 Axes>"
      ]
     },
     "metadata": {
      "needs_background": "light"
     },
     "output_type": "display_data"
    }
   ],
   "source": [
    "histlowLum , binsEdg=np.histogram(np.array(lowLum['d2']), bins=300, density= False)\n",
    "plt.bar(binsEdg[:-1], 2050*histlowLum/len(lowLum['mass']), width=np.diff(binsEdg), align=\"edge\",alpha=0.40,label ='Low lum')\n",
    "#plt.ylim([0,250])\n",
    "\n",
    "#x = [5]*len(qcdData['mass'])\n",
    "\n",
    "histQcd , binsEdg1=np.histogram(np.array(qcdData['d2']), bins=300, density= False)\n",
    "plt.bar(binsEdg[:-1],2000 *histQcd/len(qcdData['mass']), width=np.diff(binsEdg), align=\"edge\",alpha=0.40,label ='QCD')\n",
    "\n",
    "histHiggs , binsEdg2=np.histogram(np.array(higgsData['d2']), bins=300, density= False)\n",
    "plt.bar(binsEdg[:-1],(50*histHiggs/len(higgsData['mass'])), width=np.diff(binsEdg), align=\"edge\",alpha=0.40,label ='Higgs')\n",
    "\n",
    "plt.legend()\n",
    "\n",
    "plt.title('Two prong jet discriminant')\n",
    "plt.ylabel('count')\n",
    "plt.xlabel('Two prong jet discriminant')"
   ]
  },
  {
   "cell_type": "markdown",
   "metadata": {},
   "source": [
    "Now lets do the same three cuts we did for the high lum and in lab 7"
   ]
  },
  {
   "cell_type": "code",
   "execution_count": 61,
   "metadata": {},
   "outputs": [
    {
     "data": {
      "text/plain": [
       "(2652, 14)"
      ]
     },
     "execution_count": 61,
     "metadata": {},
     "output_type": "execute_result"
    },
    {
     "data": {
      "image/png": "[encoded data removed]",
      "text/plain": [
       "<Figure size 720x216 with 1 Axes>"
      ]
     },
     "metadata": {
      "needs_background": "light"
     },
     "output_type": "display_data"
    }
   ],
   "source": [
    "lowLumMassCut=cut1(124.8,129,'mass',lowLum)\n",
    "histLowLum , binsEdg=np.histogram(np.array(lowLumMassCut['mass']), bins=10, density= False)\n",
    "plt.bar(binsEdg[:-1], 2050*histLowLum/len(lowLum['mass']), width=np.diff(binsEdg), align=\"edge\",alpha=0.40,label ='Low lum')\n",
    "#plt.ylim([0,250])\n",
    "\n",
    "#x = [5]*len(qcdData['mass'])\n",
    "qcdDataMassCut=cut1(124.8,129,'mass',qcdData)\n",
    "histQcd , binsEdg1=np.histogram(np.array(qcdDataMassCut['mass']), bins=10, density= False)\n",
    "plt.bar(binsEdg[:-1],2000 *histQcd/len(qcdData['mass']), width=np.diff(binsEdg), align=\"edge\",alpha=0.40,label ='qcd')\n",
    "\n",
    "higgsDataMassCut=cut1(124.8,129,'mass',higgsData)\n",
    "histHiggs , binsEdg2=np.histogram(np.array(higgsDataMassCut['mass']), bins=10, density= False)\n",
    "plt.bar(binsEdg[:-1],(50*histHiggs/len(higgsData['mass'])), width=np.diff(binsEdg), align=\"edge\",alpha=0.40,label ='Higgs')\n",
    "\n",
    "plt.title('First cut')\n",
    "plt.ylabel('count')\n",
    "plt.xlabel('Mass in Gev')\n",
    "\n",
    "plt.legend()\n",
    "sum(2000 *histQcd/len(qcdData['mass']))\n",
    "qcdDataMassCut.shape"
   ]
  },
  {
   "cell_type": "markdown",
   "metadata": {},
   "source": []
  },
  {
   "cell_type": "code",
   "execution_count": null,
   "metadata": {},
   "outputs": [],
   "source": []
  },
  {
   "cell_type": "code",
   "execution_count": null,
   "metadata": {},
   "outputs": [],
   "source": []
  },
  {
   "cell_type": "code",
   "execution_count": 62,
   "metadata": {},
   "outputs": [
    {
     "data": {
      "text/plain": [
       "<matplotlib.legend.Legend at 0x7fe2ef263950>"
      ]
     },
     "execution_count": 62,
     "metadata": {},
     "output_type": "execute_result"
    },
    {
     "data": {
      "image/png": "[encoded data removed]",
      "text/plain": [
       "<Figure size 720x216 with 1 Axes>"
      ]
     },
     "metadata": {
      "needs_background": "light"
     },
     "output_type": "display_data"
    }
   ],
   "source": [
    "lowLumCut2=cut1(0,2.5,'d2',lowLumMassCut)\n",
    "histlowLum , binsEdg=np.histogram(np.array(lowLumCut2['d2']), bins=5, density= False)\n",
    "plt.bar(binsEdg[:-1], 2050*histlowLum/len(lowLum['mass']), width=np.diff(binsEdg), align=\"edge\",alpha=0.40,label ='Low lum')\n",
    "#plt.ylim([0,250])\n",
    "plt.title('Secound cut')\n",
    "plt.xlabel('Two prong jet discriminant')\n",
    "#plt.xlim([0,20])\n",
    "plt.ylabel('Probability')\n",
    "\n",
    "#x = [5]*len(qcdData['mass'])\n",
    "qcdDataCut2=cut1(0,2.5,'d2',qcdDataMassCut)\n",
    "histQcd , binsEdg1=np.histogram(np.array(qcdDataCut2['d2']), bins=5, density= False)\n",
    "plt.bar(binsEdg[:-1],2000 *histQcd/len(qcdData['mass']), width=np.diff(binsEdg), align=\"edge\",alpha=0.40,label ='qcd')\n",
    "\n",
    "higgsDataCut2=cut1(0,2.5,'d2',higgsDataMassCut)\n",
    "histHiggs , binsEdg2=np.histogram(np.array(higgsDataCut2['d2']), bins=5, density= False)\n",
    "plt.bar(binsEdg[:-1],(50*histHiggs/len(higgsData['mass'])), width=np.diff(binsEdg), align=\"edge\",alpha=0.40,label ='higgs')\n",
    "\n",
    "plt.legend()"
   ]
  },
  {
   "cell_type": "code",
   "execution_count": 63,
   "metadata": {},
   "outputs": [
    {
     "data": {
      "text/plain": [
       "<matplotlib.legend.Legend at 0x7fe2f5448050>"
      ]
     },
     "execution_count": 63,
     "metadata": {},
     "output_type": "execute_result"
    },
    {
     "data": {
      "image/png": "[encoded data removed]",
      "text/plain": [
       "<Figure size 720x216 with 1 Axes>"
      ]
     },
     "metadata": {
      "needs_background": "light"
     },
     "output_type": "display_data"
    }
   ],
   "source": [
    "lowLumCut3=cut1(0.1,0.7,'KtDeltaR',lowLumCut2)\n",
    "histlowLum , binsEdg=np.histogram(np.array(lowLumCut3['KtDeltaR']), bins=10, density= False)\n",
    "plt.bar(binsEdg[:-1], 2050*histlowLum/len(lowLum['mass']), width=np.diff(binsEdg), align=\"edge\",alpha=0.40,label ='Low lum')\n",
    "#plt.ylim([0,250])\n",
    "\n",
    "#x = [5]*len(qcdData['mass'])\n",
    "qcdDataCut3=cut1(0.1,0.7,'KtDeltaR',qcdDataCut2)\n",
    "histQcd , binsEdg1=np.histogram(np.array(qcdDataCut3['KtDeltaR']), bins=10, density= False)\n",
    "plt.bar(binsEdg[:-1],2000 *histQcd/len(qcdData['mass']), width=np.diff(binsEdg), align=\"edge\",alpha=0.40,label ='QCD')\n",
    "\n",
    "higgsDataCut3=cut1(0.1,0.7,'KtDeltaR',higgsDataCut2)\n",
    "histHiggs , binsEdg2=np.histogram(np.array(higgsDataCut3['KtDeltaR']), bins=10, density= False)\n",
    "plt.bar(binsEdg[:-1],(50*histHiggs/len(higgsData['mass'])), width=np.diff(binsEdg), align=\"edge\",alpha=0.40,label ='Higgs')\n",
    "\n",
    "plt.ylabel('count')\n",
    "plt.xlabel('KtDeltaR')\n",
    "plt.title('Third cut')\n",
    "\n",
    "plt.legend()\n",
    "\n"
   ]
  },
  {
   "cell_type": "code",
   "execution_count": 64,
   "metadata": {},
   "outputs": [
    {
     "name": "stdout",
     "output_type": "stream",
     "text": [
      "We get a simga significance of 4.915\n",
      "number of low run signal left after cuts 6.0\n",
      "number expected signal for just the background after cut 0.4420\n"
     ]
    }
   ],
   "source": [
    "bkgdMean = 442 * len(qcdDataCut3)/len(qcdData)\n",
    "    \n",
    "signalMean = 442 * len(lowLumCut3)/len(lowLum)\n",
    "\n",
    "\n",
    "    \n",
    "p = (1-scipy.stats.poisson.cdf(signalMean, bkgdMean))\n",
    "\n",
    "print('We get a simga significance of {0:1.3f}'.format(stats.norm.ppf(1-p)))\n",
    "print('number of low run signal left after cuts {0:1.1f}'.format(signalMean))\n",
    "print('number expected signal for just the background after cut {0:1.4f}'.format(bkgdMean))"
   ]
  },
  {
   "cell_type": "markdown",
   "metadata": {},
   "source": [
    "We don’t quite get a five sigma significance we need but we do get a signal that can be considered a strong candidate, this is expected of a smaller run, as runs get larger (more practical counts) we expect to get a higher significance. One thing to note is when calculating the significance we are normalizing the background to the size of the low lum run, this means we expect to see no higgs signal and then after cuts we show what is the probability that a signal free background producing a signal concentration in the manifold where we expect the higgs to be, this make the significance higher that what we would have seen if we would have expected to have seen higgs, so either way we cannot clam a discovery.\n",
    "\n"
   ]
  },
  {
   "cell_type": "code",
   "execution_count": 65,
   "metadata": {},
   "outputs": [
    {
     "data": {
      "text/plain": [
       "6.2933065"
      ]
     },
     "execution_count": 65,
     "metadata": {},
     "output_type": "execute_result"
    }
   ],
   "source": [
    "x = 442 * len(higgsDataCut3)/len(higgsData)\n",
    "x/40"
   ]
  },
  {
   "cell_type": "code",
   "execution_count": null,
   "metadata": {},
   "outputs": [],
   "source": []
  },
  {
   "cell_type": "code",
   "execution_count": null,
   "metadata": {},
   "outputs": [],
   "source": []
  },
  {
   "cell_type": "markdown",
   "metadata": {},
   "source": [
    "So lets find the 95% upper limit, To state the question we want to know what signal strength would have resulted in a observed single that was stronger than what we saw, we will do this for both our observed low lum data as well as our modeled higgs data. So, lets start with injections into the background. One thing to note is that we are doing this for the data after having done cuts to it, hence when we are injecting signal where we expect it have survived the cuts, this introduces a bias or more that we are only testing for the upper limit of seeing signal that looks like what the theory and simulations would predict, this mean that we will have to also take into account that our cuts removes about half the signal. \n",
    "\n",
    "The data is of random independent events so we will assume a Poisson distribution \n",
    "\n"
   ]
  },
  {
   "cell_type": "code",
   "execution_count": 66,
   "metadata": {},
   "outputs": [],
   "source": [
    "bkgd=scipy.stats.poisson.rvs(0.442, loc=0, size=100000)\n",
    "#plt.hist(bkgd, density=True,bins=5)\n",
    "#plt.yscale('log')\n",
    "#plt.xlabel('Number of successes')\n",
    "#plt.ylabel('Probability')\n",
    "#plt.title('background')\n",
    "#plt.legend()\n",
    "#plt.show"
   ]
  },
  {
   "cell_type": "code",
   "execution_count": 67,
   "metadata": {},
   "outputs": [],
   "source": [
    "p = stats.norm.cdf(5)\n",
    "\n",
    "#print('We get a five sigma sensitivity threshold at a signal strength of {0:1.0f} for this background'.format(stats.poisson.ppf(p,0.44)))"
   ]
  },
  {
   "cell_type": "code",
   "execution_count": 68,
   "metadata": {},
   "outputs": [],
   "source": [
    "bkgd=scipy.stats.poisson.rvs(0.44, loc=0, size=1000000)\n",
    "signal=np.random.uniform(low=0.0, high=20, size=(1000000))\n",
    "data = bkgd + signal\n",
    "\n",
    "\n",
    "singaledges = np.linspace(-0.5,20.5,21)\n",
    "dataeges = np.linspace(-0.5,20.5,21)\n",
    "datacenters = (dataeges[:-1]+dataeges[1:])/2\n",
    "signalcenters = (singaledges[:-1]+singaledges[1:])/2"
   ]
  },
  {
   "cell_type": "code",
   "execution_count": 69,
   "metadata": {},
   "outputs": [],
   "source": [
    "Psd, temp, temp2 =np.histogram2d(data,signal,bins=[dataeges,singaledges],density=True)"
   ]
  },
  {
   "cell_type": "code",
   "execution_count": 70,
   "metadata": {},
   "outputs": [
    {
     "data": {
      "image/png": "[encoded data removed]",
      "text/plain": [
       "<Figure size 1080x720 with 1 Axes>"
      ]
     },
     "metadata": {
      "needs_background": "light"
     },
     "output_type": "display_data"
    }
   ],
   "source": [
    "plt.rcParams[\"figure.figsize\"] = (15,10)\n",
    "plt.pcolormesh(datacenters,signalcenters,Psd.T)\n",
    "plt.ylabel('True signal, $P(s|d)$', fontsize = 24)\n",
    "plt.xlabel('Observed data, $P(d|s)$', fontsize = 24)\n",
    "#cax = plt.axes([0.85, 0.1, 0.075, 0.8])\n",
    "#plt.colorbar(cax=cax)\n",
    "\n",
    "slices = pd.DataFrame(Psd)"
   ]
  },
  {
   "cell_type": "code",
   "execution_count": null,
   "metadata": {},
   "outputs": [],
   "source": []
  },
  {
   "cell_type": "code",
   "execution_count": null,
   "metadata": {},
   "outputs": [],
   "source": []
  },
  {
   "cell_type": "code",
   "execution_count": null,
   "metadata": {},
   "outputs": [],
   "source": []
  },
  {
   "cell_type": "code",
   "execution_count": null,
   "metadata": {},
   "outputs": [],
   "source": []
  },
  {
   "cell_type": "code",
   "execution_count": null,
   "metadata": {},
   "outputs": [],
   "source": []
  },
  {
   "cell_type": "code",
   "execution_count": null,
   "metadata": {},
   "outputs": [],
   "source": []
  },
  {
   "cell_type": "code",
   "execution_count": null,
   "metadata": {},
   "outputs": [],
   "source": []
  },
  {
   "cell_type": "code",
   "execution_count": null,
   "metadata": {},
   "outputs": [],
   "source": []
  },
  {
   "cell_type": "code",
   "execution_count": null,
   "metadata": {},
   "outputs": [],
   "source": []
  },
  {
   "cell_type": "code",
   "execution_count": 71,
   "metadata": {},
   "outputs": [
    {
     "name": "stdout",
     "output_type": "stream",
     "text": [
      "7\n"
     ]
    }
   ],
   "source": [
    "for i in range(0,20):\n",
    "    obsSig=slices[i]\n",
    "    #datacenters[index[0][0]]\n",
    "    norObsSig= obsSig/np.sum(obsSig)\n",
    "    if np.sum(norObsSig[0:7]) <0.05:\n",
    "        print(i)\n",
    "        break"
   ]
  },
  {
   "cell_type": "markdown",
   "metadata": {},
   "source": [
    "We saw a singal strength of 6 events after the cuts, this gives us a 95% upper limit of a signal strength of 7 after the cuts. We get this number by integrating horizontal lines of the 2d graph above up to the seen signal and when that is less than 0.05 the signal strength corresponding to that horizontal line is our 95% upper limit"
   ]
  },
  {
   "cell_type": "markdown",
   "metadata": {},
   "source": [
    "now lets do the same for what the theory would predict. It just so happen that higgs model gives us a expect single strength of 6.2 this will give us the same answer as above but we will still do the same procedure"
   ]
  },
  {
   "cell_type": "code",
   "execution_count": 72,
   "metadata": {},
   "outputs": [],
   "source": [
    "bkgd=scipy.stats.poisson.rvs(0.44, loc=0, size=1000000)\n",
    "signal=np.random.uniform(low=0.0, high=20, size=(1000000))\n",
    "data = bkgd + signal\n",
    "\n",
    "\n",
    "singaledges = np.linspace(-0.5,20.5,21)\n",
    "dataeges = np.linspace(-0.5,20.5,21)\n",
    "datacenters = (dataeges[:-1]+dataeges[1:])/2\n",
    "signalcenters = (singaledges[:-1]+singaledges[1:])/2\n",
    "Psd, temp, temp2 =np.histogram2d(data,signal,bins=[dataeges,singaledges],density=True)"
   ]
  },
  {
   "cell_type": "code",
   "execution_count": 73,
   "metadata": {},
   "outputs": [
    {
     "data": {
      "image/png": "[encoded data removed]",
      "text/plain": [
       "<Figure size 1080x720 with 1 Axes>"
      ]
     },
     "metadata": {
      "needs_background": "light"
     },
     "output_type": "display_data"
    }
   ],
   "source": [
    "plt.rcParams[\"figure.figsize\"] = (15,10)\n",
    "plt.pcolormesh(datacenters,signalcenters,Psd.T)\n",
    "plt.ylabel('True signal, $P(s|d)$', fontsize = 24)\n",
    "plt.xlabel('Observed data, $P(d|s)$', fontsize = 24)\n",
    "#cax = plt.axes([0.85, 0.1, 0.075, 0.8])\n",
    "#plt.colorbar(cax=cax)\n",
    "\n",
    "\n",
    "slices = pd.DataFrame(Psd)"
   ]
  },
  {
   "cell_type": "code",
   "execution_count": 74,
   "metadata": {},
   "outputs": [],
   "source": [
    "slices = pd.DataFrame(Psd)\n",
    "values=datacenters.round()\n",
    "\n",
    "#plt.plot(signalcenters,slices.loc[index[0][0]])\n",
    "obsSig=slices[0]\n",
    "#datacenters[index[0][0]]\n",
    "norObsSig= obsSig/np.sum(obsSig)\n"
   ]
  },
  {
   "cell_type": "code",
   "execution_count": 75,
   "metadata": {},
   "outputs": [
    {
     "name": "stdout",
     "output_type": "stream",
     "text": [
      "7\n"
     ]
    }
   ],
   "source": [
    "for i in range(0,20):\n",
    "    obsSig=slices[i]\n",
    "    #datacenters[index[0][0]]\n",
    "    norObsSig= obsSig/np.sum(obsSig)\n",
    "    if np.sum(norObsSig[0:7]) <0.05:\n",
    "        print(i)\n",
    "        break"
   ]
  },
  {
   "cell_type": "markdown",
   "metadata": {},
   "source": [
    "\n",
    "as expected we have the same result as the low lum run this is promising for the theory model and for the observed candidate that that low lum run observed since we have a match between the expected and observed signals\n"
   ]
  },
  {
   "cell_type": "code",
   "execution_count": null,
   "metadata": {},
   "outputs": [],
   "source": []
  },
  {
   "cell_type": "code",
   "execution_count": null,
   "metadata": {},
   "outputs": [],
   "source": []
  }
 ],
 "metadata": {
  "kernelspec": {
   "display_name": "Python 3",
   "language": "python",
   "name": "python3"
  },
  "language_info": {
   "codemirror_mode": {
    "name": "ipython",
    "version": 3
   },
   "file_extension": ".py",
   "mimetype": "text/x-python",
   "name": "python",
   "nbconvert_exporter": "python",
   "pygments_lexer": "ipython3",
   "version": "3.7.4"
  }
 },
 "nbformat": 4,
 "nbformat_minor": 4
}
